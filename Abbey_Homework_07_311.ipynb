{
 "cells": [
  {
   "cell_type": "markdown",
   "id": "9d38926d",
   "metadata": {},
   "source": [
    "### Do your imports!"
   ]
  },
  {
   "cell_type": "code",
   "execution_count": 1,
   "id": "055005cf",
   "metadata": {},
   "outputs": [
    {
     "name": "stderr",
     "output_type": "stream",
     "text": [
      "/Users/richardabbey/.pyenv/versions/3.9.7/lib/python3.9/site-packages/pandas/compat/__init__.py:124: UserWarning: Could not import the lzma module. Your installed Python is incomplete. Attempting to use lzma compression will result in a RuntimeError.\n",
      "  warnings.warn(msg)\n"
     ]
    }
   ],
   "source": [
    "import pandas as pd\n",
    "import numpy as py\n",
    "pd.set_option(\"display.max_rows\", 200)"
   ]
  },
  {
   "cell_type": "markdown",
   "id": "0ad89e50",
   "metadata": {},
   "source": [
    "# 311 data analysis\n",
    "\n",
    "## Read in `subset.csv` and review the first few rows\n",
    "\n",
    "Even though it's a giant file – gigs and gigs! – it's a subset of the [entire dataset](https://data.cityofnewyork.us/Social-Services/311-Service-Requests-from-2010-to-Present/erm2-nwe9). It covers plenty of years, but not all of the columns.\n",
    "\n",
    "If your computer is struggling (which it will!) or you are impatient, feel free to use `nrows=` when reading it in to speed up the process by only reading in a subset of columns. Pull in at least a few million, or a couple years back."
   ]
  },
  {
   "cell_type": "code",
   "execution_count": 2,
   "id": "95ab0b53",
   "metadata": {
    "scrolled": true
   },
   "outputs": [
    {
     "name": "stderr",
     "output_type": "stream",
     "text": [
      "/Users/richardabbey/.pyenv/versions/3.9.7/lib/python3.9/site-packages/IPython/core/interactiveshell.py:3444: DtypeWarning: Columns (8) have mixed types.Specify dtype option on import or set low_memory=False.\n",
      "  exec(code_obj, self.user_global_ns, self.user_ns)\n"
     ]
    }
   ],
   "source": [
    "#Deciding to review the first 10 million rows means I will choose \n",
    "\n",
    "df = pd.read_csv('subset.csv', nrows=10000000)\n"
   ]
  },
  {
   "cell_type": "code",
   "execution_count": 3,
   "id": "d8bc5ffe",
   "metadata": {},
   "outputs": [
    {
     "data": {
      "text/plain": [
       "(10000000, 15)"
      ]
     },
     "execution_count": 3,
     "metadata": {},
     "output_type": "execute_result"
    }
   ],
   "source": [
    "df.shape"
   ]
  },
  {
   "cell_type": "markdown",
   "id": "e870bd49",
   "metadata": {},
   "source": [
    "### Where the subset came from\n",
    "\n",
    "If you're curious, I took the [original data](https://data.cityofnewyork.us/Social-Services/311-Service-Requests-from-2010-to-Present/erm2-nwe9/data) and clipped out a subset by using the command-line tool [csvkit](https://csvkit.readthedocs.io/en/latest/).\n",
    "\n",
    "First I inspected the column headers:\n",
    "\n",
    "```bash\n",
    "$ csvcut -n 311_Service_Requests_from_2010_to_Present.csv \n",
    "```\n",
    "\n",
    "Then I selected the columns I was interested in and saved it to a file.\n",
    "\n",
    "```bash\n",
    "$ csvcut -c 1,2,3,4,5,6,7,8,9,10,16,17,20,26,29 311_Service_Requests_from_2010_to_Present.csv > subset.csv\n",
    "```\n",
    "\n",
    "This was much much much much faster than doing it in Python."
   ]
  },
  {
   "cell_type": "markdown",
   "id": "5584582a",
   "metadata": {},
   "source": [
    "## We want more columns!\n",
    "\n",
    "**Right now we don't see all of the columns.** For example, mine has `...` between the **Incident Address** column and the **City** column. Go up to the top where you imported pandas, and add a `pd.set_option` line that will allow you to view all of the columns of the dataset."
   ]
  },
  {
   "cell_type": "code",
   "execution_count": 88,
   "id": "45f891ed",
   "metadata": {},
   "outputs": [],
   "source": [
    "#Here, I decided to replace all the spaces in the names of the columns with underscores to make it for easier handling\n",
    "df.columns = df.columns.str.lower().str.replace(\" \", \"_\")"
   ]
  },
  {
   "cell_type": "markdown",
   "id": "a63e2407",
   "metadata": {},
   "source": [
    "## We hate those column names!\n",
    "\n",
    "Change the column names to be tab- and period-friendly, like `df.created_date` instead of `df['Created Date']`"
   ]
  },
  {
   "cell_type": "code",
   "execution_count": null,
   "id": "e7a06ffa",
   "metadata": {},
   "outputs": [],
   "source": [
    "###"
   ]
  },
  {
   "cell_type": "markdown",
   "id": "36ff2fc2",
   "metadata": {},
   "source": [
    "# Dates and times\n",
    "\n",
    "## Are the datetimes actually datetimes?\n",
    "\n",
    "We're going to be doing some datetime-y things, so let's see if the columns that look like dates are actually dates."
   ]
  },
  {
   "cell_type": "code",
   "execution_count": 5,
   "id": "57e32449",
   "metadata": {},
   "outputs": [
    {
     "name": "stdout",
     "output_type": "stream",
     "text": [
      "<class 'pandas.core.frame.DataFrame'>\n",
      "RangeIndex: 10000000 entries, 0 to 9999999\n",
      "Data columns (total 15 columns):\n",
      " #   Column                  Dtype \n",
      "---  ------                  ----- \n",
      " 0   unique_key              int64 \n",
      " 1   created_date            object\n",
      " 2   closed_date             object\n",
      " 3   agency                  object\n",
      " 4   agency_name             object\n",
      " 5   complaint_type          object\n",
      " 6   descriptor              object\n",
      " 7   location_type           object\n",
      " 8   incident_zip            object\n",
      " 9   incident_address        object\n",
      " 10  address_type            object\n",
      " 11  city                    object\n",
      " 12  status                  object\n",
      " 13  borough                 object\n",
      " 14  open_data_channel_type  object\n",
      "dtypes: int64(1), object(14)\n",
      "memory usage: 1.1+ GB\n"
     ]
    }
   ],
   "source": [
    "#df.info() brings out the data and Data type of each column\n",
    "\n",
    "df.info()"
   ]
  },
  {
   "cell_type": "markdown",
   "id": "d5338fad",
   "metadata": {},
   "source": [
    "## In they aren't datetimes, convert them\n",
    "\n",
    "The ones we're interested in are as follows:\n",
    "\n",
    "* Created Date\n",
    "* Closed Date\n",
    "\n",
    "You have two options to convert them:\n",
    "\n",
    "1. Do it like we did in class, but **overwrite the existing string columns with the new datetime versions**\n",
    "2. Find an option with `read_csv` to automatically read certain columns as dates! Use the shift+tab trick to read the `read_csv` docs to uncover it. Once you find it, you'll set it to be the **list of date-y columns**.\n",
    "\n",
    "They're both going to take forever if you do them wrong, but can be faster with a few tricks. For example, using `pd.to_datetime` can be sped up significantly be specifying the format of the datestring.\n",
    "\n",
    "For example, if your datetime was formatted as `YYYY-MM-DD HH:MM:SS AM`, you could use the following:\n",
    "\n",
    "```\n",
    "df.my_datetime = pd.to_datetime(df.my_datetime, format=\"%Y-%m-%d %I:%M:%S %p\")\n",
    "```\n",
    "\n",
    "It's unfortunately much much much faster than the `read_csv` technique. And yes, [that's `%I` and not `%H`](https://strftime.org/).\n",
    "\n",
    "> *Tip: What should happen if it encounters an error or missing data?*"
   ]
  },
  {
   "cell_type": "code",
   "execution_count": 89,
   "id": "29535ceb",
   "metadata": {},
   "outputs": [],
   "source": [
    "#Looking at the format of date in the dataframe, I use same format from datetime\n",
    "#to convert it from from object to datetime data type\n",
    "\n",
    "df.created_date = pd.to_datetime(df.created_date, errors='coerce', format=\"%m/%d/%Y %I:%M:%S %p\")"
   ]
  },
  {
   "cell_type": "code",
   "execution_count": 7,
   "id": "53992c0a",
   "metadata": {},
   "outputs": [],
   "source": [
    "#Looking at the format of date in the dataframe, I use same format from datetime\n",
    "#to convert it from from object to datetime data type\n",
    "df.closed_date = pd.to_datetime(df.closed_date, errors='coerce', format=\"%m/%d/%Y %I:%M:%S %p\")"
   ]
  },
  {
   "cell_type": "markdown",
   "id": "61949b07",
   "metadata": {},
   "source": [
    "## According to the dataset, which month of the year has the most 311 calls?\n",
    "\n",
    "The kind of answer we're looking for is \"January,\" not \"January 2021\""
   ]
  },
  {
   "cell_type": "code",
   "execution_count": 91,
   "id": "38149da1",
   "metadata": {},
   "outputs": [
    {
     "data": {
      "text/plain": [
       "June    989313\n",
       "Name: created_date, dtype: int64"
      ]
     },
     "execution_count": 91,
     "metadata": {},
     "output_type": "execute_result"
    }
   ],
   "source": [
    "#So, I used strftime to pull out all the months from the data frame. \n",
    "#Then I selected the month that shows up more\n",
    "\n",
    "df.created_date.dt.month\n",
    "\n",
    "month.value_counts().head(1)"
   ]
  },
  {
   "cell_type": "markdown",
   "id": "4c03fb54",
   "metadata": {},
   "source": [
    "## According to the dataset, which month has had the most 311 calls?\n",
    "\n",
    "The kind of answer we're looking for is \"January 2021,\" not \"January\" (although _techniucally_ it will say `2021-01-31`, not `January 2021`)"
   ]
  },
  {
   "cell_type": "code",
   "execution_count": 98,
   "id": "12d75e39",
   "metadata": {},
   "outputs": [
    {
     "data": {
      "text/plain": [
       "June 2021    239268\n",
       "Name: created_date, dtype: int64"
      ]
     },
     "execution_count": 98,
     "metadata": {},
     "output_type": "execute_result"
    }
   ],
   "source": [
    "#I used strftime('%B %Y') to pull out the month and year. \n",
    "#And counted which one appeared most often to determine which month had the most 311 calls\n",
    "\n",
    "df.created_date.dt.strftime('%B %Y').value_counts().sort_values(ascending=False).head(1)"
   ]
  },
  {
   "cell_type": "markdown",
   "id": "0113e7e7",
   "metadata": {},
   "source": [
    "## Plot the 311 call frequency over our dataset on a _weekly_ basis\n",
    "\n",
    "To make your y axis start at zero, use `ylim=(0,100000)` when doing `.plot`. But replace the `1000` with a large enough value to actually see your data nicely!"
   ]
  },
  {
   "cell_type": "code",
   "execution_count": 109,
   "id": "98776a73",
   "metadata": {},
   "outputs": [
    {
     "data": {
      "text/plain": [
       "<AxesSubplot:xlabel='created_date'>"
      ]
     },
     "execution_count": 109,
     "metadata": {},
     "output_type": "execute_result"
    },
    {
     "data": {
      "image/png": "[encoded data removed]",
      "text/plain": [
       "<Figure size 432x288 with 1 Axes>"
      ]
     },
     "metadata": {
      "needs_background": "light"
     },
     "output_type": "display_data"
    }
   ],
   "source": [
    "# W = using resample on created date plots the weekly data based on datetime on created date\n",
    "df.resample('W', on='created_date').size().plot(ylim=[0, 70000])"
   ]
  },
  {
   "cell_type": "markdown",
   "id": "4fe8dc9a",
   "metadata": {},
   "source": [
    "## What time of day (by hour) is the most least for 311 complains? The most common?\n"
   ]
  },
  {
   "cell_type": "code",
   "execution_count": 119,
   "id": "7a7452bc",
   "metadata": {},
   "outputs": [
    {
     "data": {
      "text/plain": [
       "0    2874274\n",
       "Name: created_date, dtype: int64"
      ]
     },
     "execution_count": 119,
     "metadata": {},
     "output_type": "execute_result"
    }
   ],
   "source": [
    "#Essentialy we are looking at what hour is present under the created date column. \n",
    "#This would provide the answers to what is the least and common time for 311 complaints\n",
    "#This cell gives the time for most 311 calls\n",
    "#The strftime('%I %p') makes the time more specific\n",
    "\n",
    "df.created_date.dt.strftime('%I %p').value_counts().sort_values(ascending=False).head(1)\n"
   ]
  },
  {
   "cell_type": "code",
   "execution_count": 118,
   "id": "b9c3453a",
   "metadata": {},
   "outputs": [
    {
     "data": {
      "text/plain": [
       "04 AM    57757\n",
       "Name: created_date, dtype: int64"
      ]
     },
     "execution_count": 118,
     "metadata": {},
     "output_type": "execute_result"
    }
   ],
   "source": [
    "#This cell gives the least time most 311 calls\n",
    "\n",
    "df.created_date.dt.strftime('%I %p').value_counts().sort_values(ascending=False).tail(1)"
   ]
  },
  {
   "cell_type": "markdown",
   "id": "1001c432",
   "metadata": {},
   "source": [
    "### Make a graph of the results\n",
    "\n",
    "* Make sure the hours are in the correct order\n",
    "* Be sure to set the y-axis to start at 0\n",
    "* Give your plot a descriptive title"
   ]
  },
  {
   "cell_type": "code",
   "execution_count": 161,
   "id": "9c2c4689",
   "metadata": {},
   "outputs": [
    {
     "data": {
      "text/plain": [
       "<AxesSubplot:>"
      ]
     },
     "execution_count": 161,
     "metadata": {},
     "output_type": "execute_result"
    },
    {
     "data": {
      "image/png": "[encoded data removed]",
      "text/plain": [
       "<Figure size 432x288 with 1 Axes>"
      ]
     },
     "metadata": {
      "needs_background": "light"
     },
     "output_type": "display_data"
    }
   ],
   "source": [
    "#This plots the hour data pulled from the created_date datetime column and plots it over 24hr cycyle\n",
    "\n",
    "df.created_date.dt.hour.value_counts().sort_index().plot(x='created_date', y='0')\n",
    "\n",
    "\n",
    "# .plot(x='created_date', y='0')"
   ]
  },
  {
   "cell_type": "markdown",
   "id": "dd2d2905",
   "metadata": {},
   "source": [
    "# Agencies\n",
    "\n",
    "## What agencies field the most complaints in the dataset? Get the top 5.\n",
    "\n",
    "Use the `agency` column for this one."
   ]
  },
  {
   "cell_type": "code",
   "execution_count": 75,
   "id": "22000a0e",
   "metadata": {},
   "outputs": [
    {
     "data": {
      "text/plain": [
       "HPD     3502371\n",
       "NYPD    2374479\n",
       "DOT     1095864\n",
       "DSNY     980011\n",
       "DOB      589089\n",
       "Name: agency, dtype: int64"
      ]
     },
     "execution_count": 75,
     "metadata": {},
     "output_type": "execute_result"
    }
   ],
   "source": [
    "df.agency.value_counts().head(5)"
   ]
  },
  {
   "cell_type": "markdown",
   "id": "3469fc64",
   "metadata": {},
   "source": [
    "## What are each of those agencies?\n",
    "\n",
    "Define the following five acronyms:\n",
    "\n",
    "* NYPD\n",
    "* HPD\n",
    "* DOT\n",
    "* DSNY\n",
    "* DEP"
   ]
  },
  {
   "cell_type": "code",
   "execution_count": 16,
   "id": "0c588062",
   "metadata": {},
   "outputs": [],
   "source": [
    "# NYPD = New York Police Department \n",
    "# HPD = Department of Housing Preservation and Development\n",
    "# DOT = Department of Transportation\n",
    "# DSNY = New York Department of Sanitation\n",
    "# DEP = Department of Environmental Protection"
   ]
  },
  {
   "cell_type": "markdown",
   "id": "d4cae99e",
   "metadata": {},
   "source": [
    "## What is the most common complaint to HPD?"
   ]
  },
  {
   "cell_type": "code",
   "execution_count": 162,
   "id": "030eca78",
   "metadata": {},
   "outputs": [
    {
     "data": {
      "text/plain": [
       "HEATING    876597\n",
       "Name: complaint_type, dtype: int64"
      ]
     },
     "execution_count": 162,
     "metadata": {},
     "output_type": "execute_result"
    }
   ],
   "source": [
    "#This here we create a dataframe of complaints involving HPD\n",
    "\n",
    "HPD = df[df.agency_name == \"Department of Housing Preservation and Development\"]['complaint_type']\n",
    "\n",
    "HPD.value_counts().head(1)"
   ]
  },
  {
   "cell_type": "markdown",
   "id": "75def603",
   "metadata": {},
   "source": [
    "## What are the top 3 complaints to each agency?\n",
    "\n",
    "You'll want to use the weird confusing `.groupby(level=...` thing we learned when reviewing the homework."
   ]
  },
  {
   "cell_type": "code",
   "execution_count": 74,
   "id": "eeaee487",
   "metadata": {},
   "outputs": [
    {
     "data": {
      "text/plain": [
       "agency\n",
       "3-1-1                                      [Noise Survey, OEM Disabled Vehicle, Benefit C...\n",
       "ACS                                                                    [Forms, Damaged Tree]\n",
       "COIB                                                                                   Forms\n",
       "DCA                                        [Consumer Complaint, DCA / DOH New License App...\n",
       "DCAS                                                                    [Question, Comments]\n",
       "DCP                                                                       Research Questions\n",
       "DEP                                                             [Water System, Noise, Sewer]\n",
       "DFTA                                       [Housing - Low Income Senior, Elder Abuse, Hom...\n",
       "DHS                                        [Homeless Person Assistance, DHS Advantage - T...\n",
       "DOB                                        [General Construction/Plumbing, Building/Use, ...\n",
       "DOE                                        [School Maintenance, Teaching/Learning/Instruc...\n",
       "DOF                                        [DOF Property - Reduction Issue, DOF Parking -...\n",
       "DOHMH                                       [Rodent, Food Establishment, Indoor Air Quality]\n",
       "DOITT                                      [Public Payphone Complaint, LinkNYC, Noise - R...\n",
       "DORIS                                                                 DOR Literature Request\n",
       "DOT                                        [Street Condition, Street Light Condition, Tra...\n",
       "DPR                                        [Damaged Tree, Maintenance or Facility, Overgr...\n",
       "DSNY                                       [Derelict Vehicles, Dirty Conditions, Missed C...\n",
       "DVS                                        [..\\..\\..\\..\\..\\..\\..\\..\\..\\..., ../../../../....\n",
       "EDC                                                                       Noise - Helicopter\n",
       "FDNY                                       [Public Assembly, Fire Alarm - Reinspection, G...\n",
       "HPD                                                [HEATING, GENERAL CONSTRUCTION, PLUMBING]\n",
       "HRA                                                                 Benefit Card Replacement\n",
       "MAYORâS OFFICE OF SPECIAL ENFORCEMENT    [NonCompliance with Phased Reopening, Mass Gat...\n",
       "NYCEM                                                                 OEM Literature Request\n",
       "NYPD                                       [Noise - Residential, Illegal Parking, Noise -...\n",
       "TAX                                                                     [Question, Comments]\n",
       "TLC                                        [For Hire Vehicle Complaint, Taxi Complaint, L...\n",
       "Name: complaint_type, dtype: object"
      ]
     },
     "execution_count": 74,
     "metadata": {},
     "output_type": "execute_result"
    }
   ],
   "source": [
    "#This groups agencies and look at their complaints types and narrow to top three using the index\n",
    "\n",
    "df.groupby(['agency'])['complaint_type'].agg(lambda x:x.value_counts().index[0:3])\n"
   ]
  },
  {
   "cell_type": "markdown",
   "id": "c3d55807",
   "metadata": {},
   "source": [
    "## What is the most common kind of residential noise complaint?\n",
    "\n",
    "The NYPD seems to deal with a lot of noise complaints at homes. What is the most common subtype?"
   ]
  },
  {
   "cell_type": "code",
   "execution_count": 163,
   "id": "e726cd32",
   "metadata": {},
   "outputs": [
    {
     "data": {
      "text/plain": [
       "Loud Music/Party    492413\n",
       "Name: descriptor, dtype: int64"
      ]
     },
     "execution_count": 163,
     "metadata": {},
     "output_type": "execute_result"
    }
   ],
   "source": [
    "#For ease of reference, I create a dataframe looking at 'Noise - Residential' complaint types\n",
    "#Then I look at the descriptions of complaint type\n",
    "res_noise = df[df.complaint_type == 'Noise - Residential']\n",
    "\n",
    "res_noise.descriptor.value_counts().head(1)"
   ]
  },
  {
   "cell_type": "markdown",
   "id": "3d6c4dff",
   "metadata": {},
   "source": [
    "## What time of day do \"Loud Music/Party\" complaints come in? Make it a chart!"
   ]
  },
  {
   "cell_type": "code",
   "execution_count": 165,
   "id": "47fd96b9",
   "metadata": {},
   "outputs": [
    {
     "data": {
      "text/plain": [
       "23    64803\n",
       "22    59414\n",
       "0     56693\n",
       "21    42124\n",
       "1     40265\n",
       "20    32312\n",
       "19    25560\n",
       "2     25406\n",
       "18    20208\n",
       "17    16718\n",
       "3     15976\n",
       "16    14056\n",
       "15    11648\n",
       "14    10100\n",
       "4      9700\n",
       "13     9011\n",
       "12     7359\n",
       "5      6042\n",
       "11     5701\n",
       "10     4688\n",
       "9      3979\n",
       "6      3926\n",
       "7      3363\n",
       "8      3361\n",
       "Name: created_date, dtype: int64"
      ]
     },
     "execution_count": 165,
     "metadata": {},
     "output_type": "execute_result"
    }
   ],
   "source": [
    "# I stick to res_noise dataframe. And I used my datetime function \n",
    "#to extract the hours from created_date in res_noise dataframe and value_count it.\n",
    "\n",
    "\n",
    "res_noise[res_noise['descriptor'] == \"Loud Music/Party\"].created_date.dt.hour.value_counts()"
   ]
  },
  {
   "cell_type": "code",
   "execution_count": 166,
   "id": "926a6503",
   "metadata": {},
   "outputs": [
    {
     "data": {
      "text/plain": [
       "23    64803\n",
       "22    59414\n",
       "0     56693\n",
       "21    42124\n",
       "1     40265\n",
       "20    32312\n",
       "19    25560\n",
       "2     25406\n",
       "18    20208\n",
       "17    16718\n",
       "3     15976\n",
       "16    14056\n",
       "15    11648\n",
       "14    10100\n",
       "4      9700\n",
       "13     9011\n",
       "12     7359\n",
       "5      6042\n",
       "11     5701\n",
       "10     4688\n",
       "9      3979\n",
       "6      3926\n",
       "7      3363\n",
       "8      3361\n",
       "Name: created_date, dtype: int64"
      ]
     },
     "execution_count": 166,
     "metadata": {},
     "output_type": "execute_result"
    }
   ],
   "source": [
    "res_noise[res_noise['descriptor'] == \"Loud Music/Party\"].created_date.dt.hour.value_counts()"
   ]
  },
  {
   "cell_type": "code",
   "execution_count": 168,
   "id": "029c4248",
   "metadata": {},
   "outputs": [
    {
     "data": {
      "text/plain": [
       "<AxesSubplot:>"
      ]
     },
     "execution_count": 168,
     "metadata": {},
     "output_type": "execute_result"
    },
    {
     "data": {
      "image/png": "[encoded data removed]",
      "text/plain": [
       "<Figure size 432x288 with 1 Axes>"
      ]
     },
     "metadata": {
      "needs_background": "light"
     },
     "output_type": "display_data"
    }
   ],
   "source": [
    "#This plot the time of data showing when most loud music/party complaints are recorded\n",
    "\n",
    "loud_music = res_noise[res_noise['descriptor'] == \"Loud Music/Party\"]\n",
    "\n",
    "loud_music.created_date.dt.hour.value_counts().sort_index().plot()"
   ]
  },
  {
   "cell_type": "markdown",
   "id": "72378323",
   "metadata": {},
   "source": [
    "## When do people party hard?\n",
    "\n",
    "Make a monthly chart of Loud Music/Party complaints since the beginning of the dataset. Make it count them on a biweekly basis (every two weeks)."
   ]
  },
  {
   "cell_type": "code",
   "execution_count": 23,
   "id": "1403b89b",
   "metadata": {},
   "outputs": [
    {
     "data": {
      "text/plain": [
       "6     69568\n",
       "7     65769\n",
       "5     62101\n",
       "8     56805\n",
       "9     41344\n",
       "4     39779\n",
       "10    38938\n",
       "3     29221\n",
       "11    26225\n",
       "1     22693\n",
       "2     20199\n",
       "12    19771\n",
       "Name: created_date, dtype: int64"
      ]
     },
     "execution_count": 23,
     "metadata": {},
     "output_type": "execute_result"
    }
   ],
   "source": [
    "#Using the dataframe for loud music created, I extract the months and value_count them.\n",
    "\n",
    "loud_music.created_date.dt.month.value_counts()\n"
   ]
  },
  {
   "cell_type": "code",
   "execution_count": 169,
   "id": "42a4c1b3",
   "metadata": {},
   "outputs": [
    {
     "data": {
      "text/plain": [
       "<AxesSubplot:xlabel='created_date'>"
      ]
     },
     "execution_count": 169,
     "metadata": {},
     "output_type": "execute_result"
    },
    {
     "data": {
      "image/png": "[encoded data removed]",
      "text/plain": [
       "<Figure size 432x288 with 1 Axes>"
      ]
     },
     "metadata": {
      "needs_background": "light"
     },
     "output_type": "display_data"
    }
   ],
   "source": [
    "#I used my dataframe loud_music resample to plot my data to show biweekly count of Loud Music/Party complaints \n",
    "\n",
    "loud_music.resample('2W', on='created_date').size().plot()"
   ]
  },
  {
   "cell_type": "markdown",
   "id": "de48a3ec",
   "metadata": {},
   "source": [
    "## People and their bees\n",
    "\n",
    "Sometimes people complain about bees! Why they'd do that, I have no idea. It's somewhere in \"complaint_type\" – can you find all of the bee-related complaints?"
   ]
  },
  {
   "cell_type": "code",
   "execution_count": 170,
   "id": "5f1901b0",
   "metadata": {},
   "outputs": [
    {
     "data": {
      "text/html": [
       "<div>\n",
       "<style scoped>\n",
       "    .dataframe tbody tr th:only-of-type {\n",
       "        vertical-align: middle;\n",
       "    }\n",
       "\n",
       "    .dataframe tbody tr th {\n",
       "        vertical-align: top;\n",
       "    }\n",
       "\n",
       "    .dataframe thead th {\n",
       "        text-align: right;\n",
       "    }\n",
       "</style>\n",
       "<table border=\"1\" class=\"dataframe\">\n",
       "  <thead>\n",
       "    <tr style=\"text-align: right;\">\n",
       "      <th></th>\n",
       "      <th>unique_key</th>\n",
       "      <th>created_date</th>\n",
       "      <th>closed_date</th>\n",
       "      <th>agency</th>\n",
       "      <th>agency_name</th>\n",
       "      <th>complaint_type</th>\n",
       "      <th>descriptor</th>\n",
       "      <th>location_type</th>\n",
       "      <th>incident_zip</th>\n",
       "      <th>incident_address</th>\n",
       "      <th>address_type</th>\n",
       "      <th>city</th>\n",
       "      <th>status</th>\n",
       "      <th>borough</th>\n",
       "      <th>open_data_channel_type</th>\n",
       "      <th>time_to_fix</th>\n",
       "    </tr>\n",
       "  </thead>\n",
       "  <tbody>\n",
       "    <tr>\n",
       "      <th>288065</th>\n",
       "      <td>42054326</td>\n",
       "      <td>2019-03-26 19:10:34</td>\n",
       "      <td>2019-04-05 15:00:55</td>\n",
       "      <td>DOHMH</td>\n",
       "      <td>Department of Health and Mental Hygiene</td>\n",
       "      <td>Harboring Bees/Wasps</td>\n",
       "      <td>Beekeeping - Honeybees</td>\n",
       "      <td>1-2 Family Dwelling</td>\n",
       "      <td>11103.0</td>\n",
       "      <td>24-19 42 STREET</td>\n",
       "      <td>ADDRESS</td>\n",
       "      <td>ASTORIA</td>\n",
       "      <td>Closed</td>\n",
       "      <td>QUEENS</td>\n",
       "      <td>PHONE</td>\n",
       "      <td>9 days 19:50:21</td>\n",
       "    </tr>\n",
       "    <tr>\n",
       "      <th>291446</th>\n",
       "      <td>42058804</td>\n",
       "      <td>2019-03-26 18:14:03</td>\n",
       "      <td>2019-04-05 15:02:00</td>\n",
       "      <td>DOHMH</td>\n",
       "      <td>Department of Health and Mental Hygiene</td>\n",
       "      <td>Harboring Bees/Wasps</td>\n",
       "      <td>Beekeeping - Honeybees</td>\n",
       "      <td>1-2 Family Dwelling</td>\n",
       "      <td>11104.0</td>\n",
       "      <td>42-19 42 STREET</td>\n",
       "      <td>ADDRESS</td>\n",
       "      <td>SUNNYSIDE</td>\n",
       "      <td>Closed</td>\n",
       "      <td>QUEENS</td>\n",
       "      <td>PHONE</td>\n",
       "      <td>9 days 20:47:57</td>\n",
       "    </tr>\n",
       "    <tr>\n",
       "      <th>372834</th>\n",
       "      <td>42163934</td>\n",
       "      <td>2019-04-08 18:26:04</td>\n",
       "      <td>2019-04-29 11:18:17</td>\n",
       "      <td>DOHMH</td>\n",
       "      <td>Department of Health and Mental Hygiene</td>\n",
       "      <td>Harboring Bees/Wasps</td>\n",
       "      <td>Bees/Wasps - Not a beekeper</td>\n",
       "      <td>1-2 Family Dwelling</td>\n",
       "      <td>10302</td>\n",
       "      <td>57 HOOKER PLACE</td>\n",
       "      <td>ADDRESS</td>\n",
       "      <td>STATEN ISLAND</td>\n",
       "      <td>Closed</td>\n",
       "      <td>STATEN ISLAND</td>\n",
       "      <td>PHONE</td>\n",
       "      <td>20 days 16:52:13</td>\n",
       "    </tr>\n",
       "    <tr>\n",
       "      <th>378505</th>\n",
       "      <td>42171504</td>\n",
       "      <td>2019-04-08 15:50:40</td>\n",
       "      <td>2019-04-29 11:11:42</td>\n",
       "      <td>DOHMH</td>\n",
       "      <td>Department of Health and Mental Hygiene</td>\n",
       "      <td>Harboring Bees/Wasps</td>\n",
       "      <td>Bees/Wasps - Not a beekeper</td>\n",
       "      <td>1-2 Family Mixed Use Building</td>\n",
       "      <td>11214</td>\n",
       "      <td>2060 78 STREET</td>\n",
       "      <td>ADDRESS</td>\n",
       "      <td>BROOKLYN</td>\n",
       "      <td>Closed</td>\n",
       "      <td>BROOKLYN</td>\n",
       "      <td>ONLINE</td>\n",
       "      <td>20 days 19:21:02</td>\n",
       "    </tr>\n",
       "    <tr>\n",
       "      <th>391645</th>\n",
       "      <td>42189666</td>\n",
       "      <td>2019-04-10 19:28:14</td>\n",
       "      <td>2019-04-29 11:17:09</td>\n",
       "      <td>DOHMH</td>\n",
       "      <td>Department of Health and Mental Hygiene</td>\n",
       "      <td>Harboring Bees/Wasps</td>\n",
       "      <td>Beekeeping - Honeybees</td>\n",
       "      <td>1-2 Family Dwelling</td>\n",
       "      <td>10469</td>\n",
       "      <td>1462 STICKNEY PLACE</td>\n",
       "      <td>ADDRESS</td>\n",
       "      <td>BRONX</td>\n",
       "      <td>Closed</td>\n",
       "      <td>BRONX</td>\n",
       "      <td>PHONE</td>\n",
       "      <td>18 days 15:48:55</td>\n",
       "    </tr>\n",
       "    <tr>\n",
       "      <th>...</th>\n",
       "      <td>...</td>\n",
       "      <td>...</td>\n",
       "      <td>...</td>\n",
       "      <td>...</td>\n",
       "      <td>...</td>\n",
       "      <td>...</td>\n",
       "      <td>...</td>\n",
       "      <td>...</td>\n",
       "      <td>...</td>\n",
       "      <td>...</td>\n",
       "      <td>...</td>\n",
       "      <td>...</td>\n",
       "      <td>...</td>\n",
       "      <td>...</td>\n",
       "      <td>...</td>\n",
       "      <td>...</td>\n",
       "    </tr>\n",
       "    <tr>\n",
       "      <th>9942274</th>\n",
       "      <td>43389401</td>\n",
       "      <td>2019-07-26 11:08:29</td>\n",
       "      <td>NaT</td>\n",
       "      <td>DOHMH</td>\n",
       "      <td>Department of Health and Mental Hygiene</td>\n",
       "      <td>Harboring Bees/Wasps</td>\n",
       "      <td>Bees/Wasps - Not a beekeper</td>\n",
       "      <td>1-2 Family Dwelling</td>\n",
       "      <td>10310.0</td>\n",
       "      <td>104 ELIZABETH STREET</td>\n",
       "      <td>NaN</td>\n",
       "      <td>STATEN ISLAND</td>\n",
       "      <td>In Progress</td>\n",
       "      <td>STATEN ISLAND</td>\n",
       "      <td>PHONE</td>\n",
       "      <td>NaT</td>\n",
       "    </tr>\n",
       "    <tr>\n",
       "      <th>9959523</th>\n",
       "      <td>46376328</td>\n",
       "      <td>2020-06-03 20:32:14</td>\n",
       "      <td>NaT</td>\n",
       "      <td>DOHMH</td>\n",
       "      <td>Department of Health and Mental Hygiene</td>\n",
       "      <td>Harboring Bees/Wasps</td>\n",
       "      <td>Bees/Wasps - Not a beekeper</td>\n",
       "      <td>1-2 Family Dwelling</td>\n",
       "      <td>11434.0</td>\n",
       "      <td>137-18 160 STREET</td>\n",
       "      <td>NaN</td>\n",
       "      <td>JAMAICA</td>\n",
       "      <td>In Progress</td>\n",
       "      <td>QUEENS</td>\n",
       "      <td>PHONE</td>\n",
       "      <td>NaT</td>\n",
       "    </tr>\n",
       "    <tr>\n",
       "      <th>9993700</th>\n",
       "      <td>51340804</td>\n",
       "      <td>2021-07-26 10:01:15</td>\n",
       "      <td>NaT</td>\n",
       "      <td>DOHMH</td>\n",
       "      <td>Department of Health and Mental Hygiene</td>\n",
       "      <td>Harboring Bees/Wasps</td>\n",
       "      <td>Bees/Wasps - Not a beekeper</td>\n",
       "      <td>1-2 Family Dwelling</td>\n",
       "      <td>10314.0</td>\n",
       "      <td>342 GANSEVOORT BOULEVARD</td>\n",
       "      <td>NaN</td>\n",
       "      <td>STATEN ISLAND</td>\n",
       "      <td>In Progress</td>\n",
       "      <td>STATEN ISLAND</td>\n",
       "      <td>PHONE</td>\n",
       "      <td>NaT</td>\n",
       "    </tr>\n",
       "    <tr>\n",
       "      <th>9994578</th>\n",
       "      <td>51342433</td>\n",
       "      <td>2021-07-26 10:51:10</td>\n",
       "      <td>NaT</td>\n",
       "      <td>DOHMH</td>\n",
       "      <td>Department of Health and Mental Hygiene</td>\n",
       "      <td>Harboring Bees/Wasps</td>\n",
       "      <td>Bees/Wasps - Not a beekeper</td>\n",
       "      <td>3+ Family Apartment Building</td>\n",
       "      <td>11214.0</td>\n",
       "      <td>21 BAY   14 STREET</td>\n",
       "      <td>NaN</td>\n",
       "      <td>BROOKLYN</td>\n",
       "      <td>In Progress</td>\n",
       "      <td>BROOKLYN</td>\n",
       "      <td>ONLINE</td>\n",
       "      <td>NaT</td>\n",
       "    </tr>\n",
       "    <tr>\n",
       "      <th>9997874</th>\n",
       "      <td>51348644</td>\n",
       "      <td>2021-07-27 09:34:30</td>\n",
       "      <td>NaT</td>\n",
       "      <td>DOHMH</td>\n",
       "      <td>Department of Health and Mental Hygiene</td>\n",
       "      <td>Harboring Bees/Wasps</td>\n",
       "      <td>Bees/Wasps - Not a beekeper</td>\n",
       "      <td>1-2 Family Dwelling</td>\n",
       "      <td>10314.0</td>\n",
       "      <td>342 GANESVOORT BOULEVARD</td>\n",
       "      <td>NaN</td>\n",
       "      <td>STATEN ISLAND</td>\n",
       "      <td>In Progress</td>\n",
       "      <td>STATEN ISLAND</td>\n",
       "      <td>PHONE</td>\n",
       "      <td>NaT</td>\n",
       "    </tr>\n",
       "  </tbody>\n",
       "</table>\n",
       "<p>422 rows × 16 columns</p>\n",
       "</div>"
      ],
      "text/plain": [
       "         unique_key        created_date         closed_date agency  \\\n",
       "288065     42054326 2019-03-26 19:10:34 2019-04-05 15:00:55  DOHMH   \n",
       "291446     42058804 2019-03-26 18:14:03 2019-04-05 15:02:00  DOHMH   \n",
       "372834     42163934 2019-04-08 18:26:04 2019-04-29 11:18:17  DOHMH   \n",
       "378505     42171504 2019-04-08 15:50:40 2019-04-29 11:11:42  DOHMH   \n",
       "391645     42189666 2019-04-10 19:28:14 2019-04-29 11:17:09  DOHMH   \n",
       "...             ...                 ...                 ...    ...   \n",
       "9942274    43389401 2019-07-26 11:08:29                 NaT  DOHMH   \n",
       "9959523    46376328 2020-06-03 20:32:14                 NaT  DOHMH   \n",
       "9993700    51340804 2021-07-26 10:01:15                 NaT  DOHMH   \n",
       "9994578    51342433 2021-07-26 10:51:10                 NaT  DOHMH   \n",
       "9997874    51348644 2021-07-27 09:34:30                 NaT  DOHMH   \n",
       "\n",
       "                                     agency_name        complaint_type  \\\n",
       "288065   Department of Health and Mental Hygiene  Harboring Bees/Wasps   \n",
       "291446   Department of Health and Mental Hygiene  Harboring Bees/Wasps   \n",
       "372834   Department of Health and Mental Hygiene  Harboring Bees/Wasps   \n",
       "378505   Department of Health and Mental Hygiene  Harboring Bees/Wasps   \n",
       "391645   Department of Health and Mental Hygiene  Harboring Bees/Wasps   \n",
       "...                                          ...                   ...   \n",
       "9942274  Department of Health and Mental Hygiene  Harboring Bees/Wasps   \n",
       "9959523  Department of Health and Mental Hygiene  Harboring Bees/Wasps   \n",
       "9993700  Department of Health and Mental Hygiene  Harboring Bees/Wasps   \n",
       "9994578  Department of Health and Mental Hygiene  Harboring Bees/Wasps   \n",
       "9997874  Department of Health and Mental Hygiene  Harboring Bees/Wasps   \n",
       "\n",
       "                          descriptor                  location_type  \\\n",
       "288065        Beekeeping - Honeybees            1-2 Family Dwelling   \n",
       "291446        Beekeeping - Honeybees            1-2 Family Dwelling   \n",
       "372834   Bees/Wasps - Not a beekeper            1-2 Family Dwelling   \n",
       "378505   Bees/Wasps - Not a beekeper  1-2 Family Mixed Use Building   \n",
       "391645        Beekeeping - Honeybees            1-2 Family Dwelling   \n",
       "...                              ...                            ...   \n",
       "9942274  Bees/Wasps - Not a beekeper            1-2 Family Dwelling   \n",
       "9959523  Bees/Wasps - Not a beekeper            1-2 Family Dwelling   \n",
       "9993700  Bees/Wasps - Not a beekeper            1-2 Family Dwelling   \n",
       "9994578  Bees/Wasps - Not a beekeper   3+ Family Apartment Building   \n",
       "9997874  Bees/Wasps - Not a beekeper            1-2 Family Dwelling   \n",
       "\n",
       "        incident_zip          incident_address address_type           city  \\\n",
       "288065       11103.0           24-19 42 STREET      ADDRESS        ASTORIA   \n",
       "291446       11104.0           42-19 42 STREET      ADDRESS      SUNNYSIDE   \n",
       "372834         10302           57 HOOKER PLACE      ADDRESS  STATEN ISLAND   \n",
       "378505         11214            2060 78 STREET      ADDRESS       BROOKLYN   \n",
       "391645         10469       1462 STICKNEY PLACE      ADDRESS          BRONX   \n",
       "...              ...                       ...          ...            ...   \n",
       "9942274      10310.0      104 ELIZABETH STREET          NaN  STATEN ISLAND   \n",
       "9959523      11434.0         137-18 160 STREET          NaN        JAMAICA   \n",
       "9993700      10314.0  342 GANSEVOORT BOULEVARD          NaN  STATEN ISLAND   \n",
       "9994578      11214.0        21 BAY   14 STREET          NaN       BROOKLYN   \n",
       "9997874      10314.0  342 GANESVOORT BOULEVARD          NaN  STATEN ISLAND   \n",
       "\n",
       "              status        borough open_data_channel_type      time_to_fix  \n",
       "288065        Closed         QUEENS                  PHONE  9 days 19:50:21  \n",
       "291446        Closed         QUEENS                  PHONE  9 days 20:47:57  \n",
       "372834        Closed  STATEN ISLAND                  PHONE 20 days 16:52:13  \n",
       "378505        Closed       BROOKLYN                 ONLINE 20 days 19:21:02  \n",
       "391645        Closed          BRONX                  PHONE 18 days 15:48:55  \n",
       "...              ...            ...                    ...              ...  \n",
       "9942274  In Progress  STATEN ISLAND                  PHONE              NaT  \n",
       "9959523  In Progress         QUEENS                  PHONE              NaT  \n",
       "9993700  In Progress  STATEN ISLAND                  PHONE              NaT  \n",
       "9994578  In Progress       BROOKLYN                 ONLINE              NaT  \n",
       "9997874  In Progress  STATEN ISLAND                  PHONE              NaT  \n",
       "\n",
       "[422 rows x 16 columns]"
      ]
     },
     "execution_count": 170,
     "metadata": {},
     "output_type": "execute_result"
    }
   ],
   "source": [
    "#I first use .str.contains to search where there are bees. \n",
    "#Then I create a dataframe using the Harboring Bees/Wasps complaint type.\n",
    "\n",
    "bees = df[df.complaint_type == 'Harboring Bees/Wasps']\n",
    "\n",
    "\n",
    "bees"
   ]
  },
  {
   "cell_type": "markdown",
   "id": "8c68e167",
   "metadata": {},
   "source": [
    "### What month do most of the complaints happen in? I'd like to see a graph."
   ]
  },
  {
   "cell_type": "code",
   "execution_count": 177,
   "id": "590fd267",
   "metadata": {},
   "outputs": [
    {
     "data": {
      "text/plain": [
       "5     100\n",
       "8      83\n",
       "9      70\n",
       "7      54\n",
       "4      35\n",
       "6      33\n",
       "10     32\n",
       "11      8\n",
       "3       3\n",
       "12      2\n",
       "1       2\n",
       "Name: created_date, dtype: int64"
      ]
     },
     "execution_count": 177,
     "metadata": {},
     "output_type": "execute_result"
    }
   ],
   "source": [
    "#From the bees dataframe, I esxtract the month from the created_date column.\n",
    "#I look out for the month most complaints came in\n",
    "\n",
    "bees.created_date.dt.month.value_counts()"
   ]
  },
  {
   "cell_type": "code",
   "execution_count": 173,
   "id": "6448fd3d",
   "metadata": {},
   "outputs": [
    {
     "data": {
      "text/plain": [
       "<AxesSubplot:>"
      ]
     },
     "execution_count": 173,
     "metadata": {},
     "output_type": "execute_result"
    },
    {
     "data": {
      "image/png": "[encoded data removed]",
      "text/plain": [
       "<Figure size 432x288 with 1 Axes>"
      ]
     },
     "metadata": {
      "needs_background": "light"
     },
     "output_type": "display_data"
    }
   ],
   "source": [
    "#I extract the monthly data from the created dat\n",
    "\n",
    "bees.created_date.dt.month.value_counts().sort_index().plot(kind='barh')"
   ]
  },
  {
   "cell_type": "markdown",
   "id": "9cdf43eb",
   "metadata": {},
   "source": [
    "### Are the people getting in trouble usually beekeepers or not beekeepers?"
   ]
  },
  {
   "cell_type": "code",
   "execution_count": 175,
   "id": "e517af3a",
   "metadata": {},
   "outputs": [
    {
     "data": {
      "text/plain": [
       "Bees/Wasps - Not a beekeper    359\n",
       "Beekeeping - Honeybees          63\n",
       "Name: descriptor, dtype: int64"
      ]
     },
     "execution_count": 175,
     "metadata": {},
     "output_type": "execute_result"
    }
   ],
   "source": [
    "#I extract the descriptor to find out those involved in the complaints about bees\n",
    "\n",
    "bees['descriptor'].value_counts()"
   ]
  },
  {
   "cell_type": "markdown",
   "id": "2f96be0a",
   "metadata": {},
   "source": [
    "# Math with datetimes\n",
    "\n",
    "## How long does it normally take to resolve a 311 complaint?\n",
    "\n",
    "Even if we didn't cover this in class, I have faith that you can guess how to calculate it."
   ]
  },
  {
   "cell_type": "code",
   "execution_count": 176,
   "id": "11145dfb",
   "metadata": {},
   "outputs": [],
   "source": [
    "#To find out how long resolution takes, \n",
    "#I create a column that substracts created date from closed date.\n",
    "\n",
    "df['time_to_fix'] = df['closed_date'] - df['created_date']"
   ]
  },
  {
   "cell_type": "markdown",
   "id": "f901cdb7",
   "metadata": {},
   "source": [
    "Save it as a new column called `time_to_fix`"
   ]
  },
  {
   "cell_type": "code",
   "execution_count": 28,
   "id": "2cdcf705",
   "metadata": {},
   "outputs": [
    {
     "data": {
      "text/plain": [
       "0         16 days 15:27:04\n",
       "1         14 days 15:00:26\n",
       "2         29 days 21:26:32\n",
       "3          6 days 14:38:16\n",
       "4          6 days 16:18:23\n",
       "                ...       \n",
       "9999995    0 days 07:13:39\n",
       "9999996   25 days 23:55:09\n",
       "9999997    0 days 02:56:59\n",
       "9999998    4 days 01:47:26\n",
       "9999999    0 days 03:55:53\n",
       "Name: time_to_fix, Length: 10000000, dtype: timedelta64[ns]"
      ]
     },
     "execution_count": 28,
     "metadata": {},
     "output_type": "execute_result"
    }
   ],
   "source": [
    "df.time_to_fix"
   ]
  },
  {
   "cell_type": "markdown",
   "id": "30fbc746",
   "metadata": {},
   "source": [
    "## Which agency has the best time-to-fix time?"
   ]
  },
  {
   "cell_type": "code",
   "execution_count": 178,
   "id": "c2bb7780",
   "metadata": {},
   "outputs": [
    {
     "data": {
      "text/plain": [
       "agency\n",
       "3-1-1   0 days 00:00:39\n",
       "Name: time_to_fix, dtype: timedelta64[ns]"
      ]
     },
     "execution_count": 178,
     "metadata": {},
     "output_type": "execute_result"
    }
   ],
   "source": [
    "# I group complaints by agencies and extract and look at the median of their to time to fix\n",
    "\n",
    "df.groupby(by='agency').time_to_fix.median().head(1)"
   ]
  },
  {
   "cell_type": "markdown",
   "id": "376f1775",
   "metadata": {},
   "source": [
    "## Maybe we need some more information...\n",
    "\n",
    "I might want to know how big our sample size is for each of those, maybe the high performers only have one or two instances of having requests filed!\n",
    "\n",
    "### First, try using `.describe()` on the time to fix column after your `groupby`."
   ]
  },
  {
   "cell_type": "code",
   "execution_count": 30,
   "id": "81ba3d2e",
   "metadata": {},
   "outputs": [
    {
     "data": {
      "text/html": [
       "<div>\n",
       "<style scoped>\n",
       "    .dataframe tbody tr th:only-of-type {\n",
       "        vertical-align: middle;\n",
       "    }\n",
       "\n",
       "    .dataframe tbody tr th {\n",
       "        vertical-align: top;\n",
       "    }\n",
       "\n",
       "    .dataframe thead th {\n",
       "        text-align: right;\n",
       "    }\n",
       "</style>\n",
       "<table border=\"1\" class=\"dataframe\">\n",
       "  <thead>\n",
       "    <tr style=\"text-align: right;\">\n",
       "      <th></th>\n",
       "      <th>count</th>\n",
       "      <th>mean</th>\n",
       "      <th>std</th>\n",
       "      <th>min</th>\n",
       "      <th>25%</th>\n",
       "      <th>50%</th>\n",
       "      <th>75%</th>\n",
       "      <th>max</th>\n",
       "    </tr>\n",
       "    <tr>\n",
       "      <th>agency</th>\n",
       "      <th></th>\n",
       "      <th></th>\n",
       "      <th></th>\n",
       "      <th></th>\n",
       "      <th></th>\n",
       "      <th></th>\n",
       "      <th></th>\n",
       "      <th></th>\n",
       "    </tr>\n",
       "  </thead>\n",
       "  <tbody>\n",
       "    <tr>\n",
       "      <th>3-1-1</th>\n",
       "      <td>65</td>\n",
       "      <td>0 days 00:00:56.984615384</td>\n",
       "      <td>0 days 00:01:17.965034692</td>\n",
       "      <td>0 days 00:00:03</td>\n",
       "      <td>0 days 00:00:17</td>\n",
       "      <td>0 days 00:00:39</td>\n",
       "      <td>0 days 00:00:58</td>\n",
       "      <td>0 days 00:07:44</td>\n",
       "    </tr>\n",
       "    <tr>\n",
       "      <th>ACS</th>\n",
       "      <td>1</td>\n",
       "      <td>0 days 22:48:06</td>\n",
       "      <td>NaT</td>\n",
       "      <td>0 days 22:48:06</td>\n",
       "      <td>0 days 22:48:06</td>\n",
       "      <td>0 days 22:48:06</td>\n",
       "      <td>0 days 22:48:06</td>\n",
       "      <td>0 days 22:48:06</td>\n",
       "    </tr>\n",
       "    <tr>\n",
       "      <th>COIB</th>\n",
       "      <td>0</td>\n",
       "      <td>NaT</td>\n",
       "      <td>NaT</td>\n",
       "      <td>NaT</td>\n",
       "      <td>NaT</td>\n",
       "      <td>NaT</td>\n",
       "      <td>NaT</td>\n",
       "      <td>NaT</td>\n",
       "    </tr>\n",
       "    <tr>\n",
       "      <th>DCA</th>\n",
       "      <td>60272</td>\n",
       "      <td>32 days 04:31:21.617367932</td>\n",
       "      <td>103 days 02:16:16.679270175</td>\n",
       "      <td>0 days 00:04:02</td>\n",
       "      <td>0 days 21:25:45</td>\n",
       "      <td>1 days 16:28:18</td>\n",
       "      <td>3 days 02:23:07.500000</td>\n",
       "      <td>804 days 21:18:42</td>\n",
       "    </tr>\n",
       "    <tr>\n",
       "      <th>DCAS</th>\n",
       "      <td>0</td>\n",
       "      <td>NaT</td>\n",
       "      <td>NaT</td>\n",
       "      <td>NaT</td>\n",
       "      <td>NaT</td>\n",
       "      <td>NaT</td>\n",
       "      <td>NaT</td>\n",
       "      <td>NaT</td>\n",
       "    </tr>\n",
       "    <tr>\n",
       "      <th>DCP</th>\n",
       "      <td>0</td>\n",
       "      <td>NaT</td>\n",
       "      <td>NaT</td>\n",
       "      <td>NaT</td>\n",
       "      <td>NaT</td>\n",
       "      <td>NaT</td>\n",
       "      <td>NaT</td>\n",
       "      <td>NaT</td>\n",
       "    </tr>\n",
       "    <tr>\n",
       "      <th>DEP</th>\n",
       "      <td>416232</td>\n",
       "      <td>8 days 22:47:54.406532895</td>\n",
       "      <td>66 days 22:29:02.667316639</td>\n",
       "      <td>-1829 days +15:05:00</td>\n",
       "      <td>0 days 02:35:00</td>\n",
       "      <td>0 days 21:53:00</td>\n",
       "      <td>3 days 23:23:15</td>\n",
       "      <td>4033 days 23:51:00</td>\n",
       "    </tr>\n",
       "    <tr>\n",
       "      <th>DFTA</th>\n",
       "      <td>5244</td>\n",
       "      <td>9 days 10:19:09.692791762</td>\n",
       "      <td>22 days 16:47:45.060063388</td>\n",
       "      <td>0 days 00:01:30</td>\n",
       "      <td>2 days 14:57:11.500000</td>\n",
       "      <td>8 days 22:34:12</td>\n",
       "      <td>13 days 20:23:50.500000</td>\n",
       "      <td>1506 days 10:19:19</td>\n",
       "    </tr>\n",
       "    <tr>\n",
       "      <th>DHS</th>\n",
       "      <td>133609</td>\n",
       "      <td>3 days 19:55:59.929503252</td>\n",
       "      <td>11 days 08:08:49.044888541</td>\n",
       "      <td>0 days 00:00:04</td>\n",
       "      <td>0 days 02:01:07</td>\n",
       "      <td>1 days 00:20:02</td>\n",
       "      <td>5 days 00:29:20</td>\n",
       "      <td>586 days 12:35:49</td>\n",
       "    </tr>\n",
       "    <tr>\n",
       "      <th>DOB</th>\n",
       "      <td>588499</td>\n",
       "      <td>62 days 05:19:25.843277558</td>\n",
       "      <td>191 days 12:01:02.552242788</td>\n",
       "      <td>0 days 00:00:00</td>\n",
       "      <td>0 days 12:43:35</td>\n",
       "      <td>9 days 05:32:42</td>\n",
       "      <td>52 days 07:21:39.500000</td>\n",
       "      <td>4269 days 11:28:17</td>\n",
       "    </tr>\n",
       "    <tr>\n",
       "      <th>DOE</th>\n",
       "      <td>2195</td>\n",
       "      <td>53 days 20:57:42.782232346</td>\n",
       "      <td>98 days 17:24:26.869037547</td>\n",
       "      <td>0 days 00:00:36</td>\n",
       "      <td>0 days 23:54:26</td>\n",
       "      <td>6 days 16:11:49</td>\n",
       "      <td>65 days 17:18:31</td>\n",
       "      <td>652 days 03:26:05</td>\n",
       "    </tr>\n",
       "    <tr>\n",
       "      <th>DOF</th>\n",
       "      <td>242184</td>\n",
       "      <td>6 days 06:00:33.215166980</td>\n",
       "      <td>13 days 00:20:12.494180672</td>\n",
       "      <td>0 days 00:01:27</td>\n",
       "      <td>0 days 21:18:20</td>\n",
       "      <td>2 days 05:07:24.500000</td>\n",
       "      <td>6 days 06:26:51.250000</td>\n",
       "      <td>421 days 17:29:50</td>\n",
       "    </tr>\n",
       "    <tr>\n",
       "      <th>DOHMH</th>\n",
       "      <td>82347</td>\n",
       "      <td>8 days 08:09:10.905436749</td>\n",
       "      <td>689 days 03:10:41.222144264</td>\n",
       "      <td>-44376 days +02:53:06</td>\n",
       "      <td>0 days 00:00:00</td>\n",
       "      <td>1 days 14:36:39</td>\n",
       "      <td>15 days 10:49:38.500000</td>\n",
       "      <td>1513 days 00:00:00</td>\n",
       "    </tr>\n",
       "    <tr>\n",
       "      <th>DOITT</th>\n",
       "      <td>694</td>\n",
       "      <td>28 days 00:16:29.034582132</td>\n",
       "      <td>50 days 07:33:35.809542133</td>\n",
       "      <td>0 days 00:07:23</td>\n",
       "      <td>9 days 09:39:33.750000</td>\n",
       "      <td>15 days 02:02:43</td>\n",
       "      <td>25 days 04:03:32</td>\n",
       "      <td>531 days 13:48:28</td>\n",
       "    </tr>\n",
       "    <tr>\n",
       "      <th>DORIS</th>\n",
       "      <td>58</td>\n",
       "      <td>3 days 21:47:25.586206896</td>\n",
       "      <td>4 days 08:17:59.450704054</td>\n",
       "      <td>0 days 01:24:57</td>\n",
       "      <td>1 days 00:02:50.750000</td>\n",
       "      <td>1 days 00:04:02.500000</td>\n",
       "      <td>7 days 14:39:20.250000</td>\n",
       "      <td>16 days 07:00:54</td>\n",
       "    </tr>\n",
       "    <tr>\n",
       "      <th>DOT</th>\n",
       "      <td>1077899</td>\n",
       "      <td>8 days 20:54:47.646486359</td>\n",
       "      <td>85 days 15:11:06.624321660</td>\n",
       "      <td>-44376 days +03:13:43</td>\n",
       "      <td>0 days 00:28:00</td>\n",
       "      <td>0 days 20:30:40</td>\n",
       "      <td>5 days 01:59:00.500000</td>\n",
       "      <td>2699 days 23:46:00</td>\n",
       "    </tr>\n",
       "    <tr>\n",
       "      <th>DPR</th>\n",
       "      <td>209857</td>\n",
       "      <td>12 days 13:17:28.621956856</td>\n",
       "      <td>1250 days 02:12:42.782580672</td>\n",
       "      <td>-44459 days +09:07:14</td>\n",
       "      <td>1 days 02:26:18</td>\n",
       "      <td>6 days 13:13:18</td>\n",
       "      <td>33 days 22:32:58</td>\n",
       "      <td>1643 days 14:44:26</td>\n",
       "    </tr>\n",
       "    <tr>\n",
       "      <th>DSNY</th>\n",
       "      <td>966864</td>\n",
       "      <td>8 days 00:45:23.338412641</td>\n",
       "      <td>35 days 19:12:51.518942797</td>\n",
       "      <td>-3936 days +13:43:24</td>\n",
       "      <td>1 days 00:00:00</td>\n",
       "      <td>1 days 17:44:00</td>\n",
       "      <td>3 days 22:00:00</td>\n",
       "      <td>3302 days 05:09:34</td>\n",
       "    </tr>\n",
       "    <tr>\n",
       "      <th>DVS</th>\n",
       "      <td>0</td>\n",
       "      <td>NaT</td>\n",
       "      <td>NaT</td>\n",
       "      <td>NaT</td>\n",
       "      <td>NaT</td>\n",
       "      <td>NaT</td>\n",
       "      <td>NaT</td>\n",
       "      <td>NaT</td>\n",
       "    </tr>\n",
       "    <tr>\n",
       "      <th>EDC</th>\n",
       "      <td>13476</td>\n",
       "      <td>54 days 18:53:51.096170971</td>\n",
       "      <td>113 days 02:10:00.359262366</td>\n",
       "      <td>0 days 00:00:00</td>\n",
       "      <td>0 days 00:44:44</td>\n",
       "      <td>17 days 21:07:13.500000</td>\n",
       "      <td>54 days 03:12:34</td>\n",
       "      <td>865 days 22:04:26</td>\n",
       "    </tr>\n",
       "    <tr>\n",
       "      <th>FDNY</th>\n",
       "      <td>1</td>\n",
       "      <td>402 days 03:27:56</td>\n",
       "      <td>NaT</td>\n",
       "      <td>402 days 03:27:56</td>\n",
       "      <td>402 days 03:27:56</td>\n",
       "      <td>402 days 03:27:56</td>\n",
       "      <td>402 days 03:27:56</td>\n",
       "      <td>402 days 03:27:56</td>\n",
       "    </tr>\n",
       "    <tr>\n",
       "      <th>HPD</th>\n",
       "      <td>3388531</td>\n",
       "      <td>11 days 17:17:13.420033637</td>\n",
       "      <td>22 days 09:36:15.884978313</td>\n",
       "      <td>-4 days +00:00:00</td>\n",
       "      <td>3 days 00:00:00</td>\n",
       "      <td>6 days 00:00:00</td>\n",
       "      <td>14 days 19:33:20</td>\n",
       "      <td>2519 days 16:30:43</td>\n",
       "    </tr>\n",
       "    <tr>\n",
       "      <th>HRA</th>\n",
       "      <td>69512</td>\n",
       "      <td>0 days 00:00:54.239109793</td>\n",
       "      <td>0 days 00:03:29.194438531</td>\n",
       "      <td>0 days 00:00:00</td>\n",
       "      <td>0 days 00:00:20</td>\n",
       "      <td>0 days 00:00:38</td>\n",
       "      <td>0 days 00:00:55</td>\n",
       "      <td>0 days 04:20:25</td>\n",
       "    </tr>\n",
       "    <tr>\n",
       "      <th>MAYORâS OFFICE OF SPECIAL ENFORCEMENT</th>\n",
       "      <td>47100</td>\n",
       "      <td>8 days 19:31:16.620615711</td>\n",
       "      <td>18 days 17:08:13.986588087</td>\n",
       "      <td>0 days 00:00:05</td>\n",
       "      <td>0 days 03:03:22</td>\n",
       "      <td>0 days 06:19:30.500000</td>\n",
       "      <td>6 days 07:46:46.750000</td>\n",
       "      <td>138 days 20:51:18</td>\n",
       "    </tr>\n",
       "    <tr>\n",
       "      <th>NYCEM</th>\n",
       "      <td>4124</td>\n",
       "      <td>18 days 18:39:11.884093113</td>\n",
       "      <td>18 days 16:58:21.816624889</td>\n",
       "      <td>0 days 00:01:53</td>\n",
       "      <td>4 days 11:38:41.250000</td>\n",
       "      <td>13 days 15:02:24.500000</td>\n",
       "      <td>26 days 18:09:26.750000</td>\n",
       "      <td>297 days 00:34:06</td>\n",
       "    </tr>\n",
       "    <tr>\n",
       "      <th>NYPD</th>\n",
       "      <td>2372638</td>\n",
       "      <td>0 days 04:45:21.855996995</td>\n",
       "      <td>62 days 07:10:50.678318257</td>\n",
       "      <td>-42902 days +23:05:06</td>\n",
       "      <td>0 days 00:23:21</td>\n",
       "      <td>0 days 00:55:59</td>\n",
       "      <td>0 days 02:46:43</td>\n",
       "      <td>635 days 12:48:15</td>\n",
       "    </tr>\n",
       "    <tr>\n",
       "      <th>TAX</th>\n",
       "      <td>0</td>\n",
       "      <td>NaT</td>\n",
       "      <td>NaT</td>\n",
       "      <td>NaT</td>\n",
       "      <td>NaT</td>\n",
       "      <td>NaT</td>\n",
       "      <td>NaT</td>\n",
       "      <td>NaT</td>\n",
       "    </tr>\n",
       "    <tr>\n",
       "      <th>TLC</th>\n",
       "      <td>36491</td>\n",
       "      <td>-16 days +18:22:17.215395578</td>\n",
       "      <td>1688 days 02:16:19.351153216</td>\n",
       "      <td>-44429 days +23:17:07</td>\n",
       "      <td>1 days 01:15:06.500000</td>\n",
       "      <td>24 days 19:55:58</td>\n",
       "      <td>68 days 06:58:24</td>\n",
       "      <td>3200 days 14:39:46</td>\n",
       "    </tr>\n",
       "  </tbody>\n",
       "</table>\n",
       "</div>"
      ],
      "text/plain": [
       "                                           count                         mean  \\\n",
       "agency                                                                          \n",
       "3-1-1                                         65    0 days 00:00:56.984615384   \n",
       "ACS                                            1              0 days 22:48:06   \n",
       "COIB                                           0                          NaT   \n",
       "DCA                                        60272   32 days 04:31:21.617367932   \n",
       "DCAS                                           0                          NaT   \n",
       "DCP                                            0                          NaT   \n",
       "DEP                                       416232    8 days 22:47:54.406532895   \n",
       "DFTA                                        5244    9 days 10:19:09.692791762   \n",
       "DHS                                       133609    3 days 19:55:59.929503252   \n",
       "DOB                                       588499   62 days 05:19:25.843277558   \n",
       "DOE                                         2195   53 days 20:57:42.782232346   \n",
       "DOF                                       242184    6 days 06:00:33.215166980   \n",
       "DOHMH                                      82347    8 days 08:09:10.905436749   \n",
       "DOITT                                        694   28 days 00:16:29.034582132   \n",
       "DORIS                                         58    3 days 21:47:25.586206896   \n",
       "DOT                                      1077899    8 days 20:54:47.646486359   \n",
       "DPR                                       209857   12 days 13:17:28.621956856   \n",
       "DSNY                                      966864    8 days 00:45:23.338412641   \n",
       "DVS                                            0                          NaT   \n",
       "EDC                                        13476   54 days 18:53:51.096170971   \n",
       "FDNY                                           1            402 days 03:27:56   \n",
       "HPD                                      3388531   11 days 17:17:13.420033637   \n",
       "HRA                                        69512    0 days 00:00:54.239109793   \n",
       "MAYORâS OFFICE OF SPECIAL ENFORCEMENT    47100    8 days 19:31:16.620615711   \n",
       "NYCEM                                       4124   18 days 18:39:11.884093113   \n",
       "NYPD                                     2372638    0 days 04:45:21.855996995   \n",
       "TAX                                            0                          NaT   \n",
       "TLC                                        36491 -16 days +18:22:17.215395578   \n",
       "\n",
       "                                                                 std  \\\n",
       "agency                                                                 \n",
       "3-1-1                                      0 days 00:01:17.965034692   \n",
       "ACS                                                              NaT   \n",
       "COIB                                                             NaT   \n",
       "DCA                                      103 days 02:16:16.679270175   \n",
       "DCAS                                                             NaT   \n",
       "DCP                                                              NaT   \n",
       "DEP                                       66 days 22:29:02.667316639   \n",
       "DFTA                                      22 days 16:47:45.060063388   \n",
       "DHS                                       11 days 08:08:49.044888541   \n",
       "DOB                                      191 days 12:01:02.552242788   \n",
       "DOE                                       98 days 17:24:26.869037547   \n",
       "DOF                                       13 days 00:20:12.494180672   \n",
       "DOHMH                                    689 days 03:10:41.222144264   \n",
       "DOITT                                     50 days 07:33:35.809542133   \n",
       "DORIS                                      4 days 08:17:59.450704054   \n",
       "DOT                                       85 days 15:11:06.624321660   \n",
       "DPR                                     1250 days 02:12:42.782580672   \n",
       "DSNY                                      35 days 19:12:51.518942797   \n",
       "DVS                                                              NaT   \n",
       "EDC                                      113 days 02:10:00.359262366   \n",
       "FDNY                                                             NaT   \n",
       "HPD                                       22 days 09:36:15.884978313   \n",
       "HRA                                        0 days 00:03:29.194438531   \n",
       "MAYORâS OFFICE OF SPECIAL ENFORCEMENT   18 days 17:08:13.986588087   \n",
       "NYCEM                                     18 days 16:58:21.816624889   \n",
       "NYPD                                      62 days 07:10:50.678318257   \n",
       "TAX                                                              NaT   \n",
       "TLC                                     1688 days 02:16:19.351153216   \n",
       "\n",
       "                                                          min  \\\n",
       "agency                                                          \n",
       "3-1-1                                         0 days 00:00:03   \n",
       "ACS                                           0 days 22:48:06   \n",
       "COIB                                                      NaT   \n",
       "DCA                                           0 days 00:04:02   \n",
       "DCAS                                                      NaT   \n",
       "DCP                                                       NaT   \n",
       "DEP                                      -1829 days +15:05:00   \n",
       "DFTA                                          0 days 00:01:30   \n",
       "DHS                                           0 days 00:00:04   \n",
       "DOB                                           0 days 00:00:00   \n",
       "DOE                                           0 days 00:00:36   \n",
       "DOF                                           0 days 00:01:27   \n",
       "DOHMH                                   -44376 days +02:53:06   \n",
       "DOITT                                         0 days 00:07:23   \n",
       "DORIS                                         0 days 01:24:57   \n",
       "DOT                                     -44376 days +03:13:43   \n",
       "DPR                                     -44459 days +09:07:14   \n",
       "DSNY                                     -3936 days +13:43:24   \n",
       "DVS                                                       NaT   \n",
       "EDC                                           0 days 00:00:00   \n",
       "FDNY                                        402 days 03:27:56   \n",
       "HPD                                         -4 days +00:00:00   \n",
       "HRA                                           0 days 00:00:00   \n",
       "MAYORâS OFFICE OF SPECIAL ENFORCEMENT       0 days 00:00:05   \n",
       "NYCEM                                         0 days 00:01:53   \n",
       "NYPD                                    -42902 days +23:05:06   \n",
       "TAX                                                       NaT   \n",
       "TLC                                     -44429 days +23:17:07   \n",
       "\n",
       "                                                           25%  \\\n",
       "agency                                                           \n",
       "3-1-1                                          0 days 00:00:17   \n",
       "ACS                                            0 days 22:48:06   \n",
       "COIB                                                       NaT   \n",
       "DCA                                            0 days 21:25:45   \n",
       "DCAS                                                       NaT   \n",
       "DCP                                                        NaT   \n",
       "DEP                                            0 days 02:35:00   \n",
       "DFTA                                    2 days 14:57:11.500000   \n",
       "DHS                                            0 days 02:01:07   \n",
       "DOB                                            0 days 12:43:35   \n",
       "DOE                                            0 days 23:54:26   \n",
       "DOF                                            0 days 21:18:20   \n",
       "DOHMH                                          0 days 00:00:00   \n",
       "DOITT                                   9 days 09:39:33.750000   \n",
       "DORIS                                   1 days 00:02:50.750000   \n",
       "DOT                                            0 days 00:28:00   \n",
       "DPR                                            1 days 02:26:18   \n",
       "DSNY                                           1 days 00:00:00   \n",
       "DVS                                                        NaT   \n",
       "EDC                                            0 days 00:44:44   \n",
       "FDNY                                         402 days 03:27:56   \n",
       "HPD                                            3 days 00:00:00   \n",
       "HRA                                            0 days 00:00:20   \n",
       "MAYORâS OFFICE OF SPECIAL ENFORCEMENT        0 days 03:03:22   \n",
       "NYCEM                                   4 days 11:38:41.250000   \n",
       "NYPD                                           0 days 00:23:21   \n",
       "TAX                                                        NaT   \n",
       "TLC                                     1 days 01:15:06.500000   \n",
       "\n",
       "                                                            50%  \\\n",
       "agency                                                            \n",
       "3-1-1                                           0 days 00:00:39   \n",
       "ACS                                             0 days 22:48:06   \n",
       "COIB                                                        NaT   \n",
       "DCA                                             1 days 16:28:18   \n",
       "DCAS                                                        NaT   \n",
       "DCP                                                         NaT   \n",
       "DEP                                             0 days 21:53:00   \n",
       "DFTA                                            8 days 22:34:12   \n",
       "DHS                                             1 days 00:20:02   \n",
       "DOB                                             9 days 05:32:42   \n",
       "DOE                                             6 days 16:11:49   \n",
       "DOF                                      2 days 05:07:24.500000   \n",
       "DOHMH                                           1 days 14:36:39   \n",
       "DOITT                                          15 days 02:02:43   \n",
       "DORIS                                    1 days 00:04:02.500000   \n",
       "DOT                                             0 days 20:30:40   \n",
       "DPR                                             6 days 13:13:18   \n",
       "DSNY                                            1 days 17:44:00   \n",
       "DVS                                                         NaT   \n",
       "EDC                                     17 days 21:07:13.500000   \n",
       "FDNY                                          402 days 03:27:56   \n",
       "HPD                                             6 days 00:00:00   \n",
       "HRA                                             0 days 00:00:38   \n",
       "MAYORâS OFFICE OF SPECIAL ENFORCEMENT  0 days 06:19:30.500000   \n",
       "NYCEM                                   13 days 15:02:24.500000   \n",
       "NYPD                                            0 days 00:55:59   \n",
       "TAX                                                         NaT   \n",
       "TLC                                            24 days 19:55:58   \n",
       "\n",
       "                                                            75%  \\\n",
       "agency                                                            \n",
       "3-1-1                                           0 days 00:00:58   \n",
       "ACS                                             0 days 22:48:06   \n",
       "COIB                                                        NaT   \n",
       "DCA                                      3 days 02:23:07.500000   \n",
       "DCAS                                                        NaT   \n",
       "DCP                                                         NaT   \n",
       "DEP                                             3 days 23:23:15   \n",
       "DFTA                                    13 days 20:23:50.500000   \n",
       "DHS                                             5 days 00:29:20   \n",
       "DOB                                     52 days 07:21:39.500000   \n",
       "DOE                                            65 days 17:18:31   \n",
       "DOF                                      6 days 06:26:51.250000   \n",
       "DOHMH                                   15 days 10:49:38.500000   \n",
       "DOITT                                          25 days 04:03:32   \n",
       "DORIS                                    7 days 14:39:20.250000   \n",
       "DOT                                      5 days 01:59:00.500000   \n",
       "DPR                                            33 days 22:32:58   \n",
       "DSNY                                            3 days 22:00:00   \n",
       "DVS                                                         NaT   \n",
       "EDC                                            54 days 03:12:34   \n",
       "FDNY                                          402 days 03:27:56   \n",
       "HPD                                            14 days 19:33:20   \n",
       "HRA                                             0 days 00:00:55   \n",
       "MAYORâS OFFICE OF SPECIAL ENFORCEMENT  6 days 07:46:46.750000   \n",
       "NYCEM                                   26 days 18:09:26.750000   \n",
       "NYPD                                            0 days 02:46:43   \n",
       "TAX                                                         NaT   \n",
       "TLC                                            68 days 06:58:24   \n",
       "\n",
       "                                                       max  \n",
       "agency                                                      \n",
       "3-1-1                                      0 days 00:07:44  \n",
       "ACS                                        0 days 22:48:06  \n",
       "COIB                                                   NaT  \n",
       "DCA                                      804 days 21:18:42  \n",
       "DCAS                                                   NaT  \n",
       "DCP                                                    NaT  \n",
       "DEP                                     4033 days 23:51:00  \n",
       "DFTA                                    1506 days 10:19:19  \n",
       "DHS                                      586 days 12:35:49  \n",
       "DOB                                     4269 days 11:28:17  \n",
       "DOE                                      652 days 03:26:05  \n",
       "DOF                                      421 days 17:29:50  \n",
       "DOHMH                                   1513 days 00:00:00  \n",
       "DOITT                                    531 days 13:48:28  \n",
       "DORIS                                     16 days 07:00:54  \n",
       "DOT                                     2699 days 23:46:00  \n",
       "DPR                                     1643 days 14:44:26  \n",
       "DSNY                                    3302 days 05:09:34  \n",
       "DVS                                                    NaT  \n",
       "EDC                                      865 days 22:04:26  \n",
       "FDNY                                     402 days 03:27:56  \n",
       "HPD                                     2519 days 16:30:43  \n",
       "HRA                                        0 days 04:20:25  \n",
       "MAYORâS OFFICE OF SPECIAL ENFORCEMENT  138 days 20:51:18  \n",
       "NYCEM                                    297 days 00:34:06  \n",
       "NYPD                                     635 days 12:48:15  \n",
       "TAX                                                    NaT  \n",
       "TLC                                     3200 days 14:39:46  "
      ]
     },
     "execution_count": 30,
     "metadata": {},
     "output_type": "execute_result"
    }
   ],
   "source": [
    "#Using .describe to extract all the descriptive stats of the data\n",
    "\n",
    "df.groupby(by='agency').time_to_fix.describe()"
   ]
  },
  {
   "cell_type": "markdown",
   "id": "d9805543",
   "metadata": {},
   "source": [
    "### Now, an alternative\n",
    "\n",
    "Seems a little busy, yeah? **You can also do smaller, custom aggregations.**\n",
    "\n",
    "Try something like this:\n",
    "\n",
    "```python\n",
    "# Multiple aggregations of one column\n",
    "df.groupby('agency').time_to_fix.agg(['median', 'size'])\n",
    "\n",
    "# You can also do something like this to reach multiple columns\n",
    "df.groupby('agency').agg({\n",
    "    'time_to_fix': ['median', 'size']\n",
    "})\n",
    "```"
   ]
  },
  {
   "cell_type": "code",
   "execution_count": 31,
   "id": "90413000",
   "metadata": {},
   "outputs": [
    {
     "data": {
      "text/html": [
       "<div>\n",
       "<style scoped>\n",
       "    .dataframe tbody tr th:only-of-type {\n",
       "        vertical-align: middle;\n",
       "    }\n",
       "\n",
       "    .dataframe tbody tr th {\n",
       "        vertical-align: top;\n",
       "    }\n",
       "\n",
       "    .dataframe thead tr th {\n",
       "        text-align: left;\n",
       "    }\n",
       "\n",
       "    .dataframe thead tr:last-of-type th {\n",
       "        text-align: right;\n",
       "    }\n",
       "</style>\n",
       "<table border=\"1\" class=\"dataframe\">\n",
       "  <thead>\n",
       "    <tr>\n",
       "      <th></th>\n",
       "      <th colspan=\"2\" halign=\"left\">time_to_fix</th>\n",
       "    </tr>\n",
       "    <tr>\n",
       "      <th></th>\n",
       "      <th>median</th>\n",
       "      <th>size</th>\n",
       "    </tr>\n",
       "    <tr>\n",
       "      <th>agency</th>\n",
       "      <th></th>\n",
       "      <th></th>\n",
       "    </tr>\n",
       "  </thead>\n",
       "  <tbody>\n",
       "    <tr>\n",
       "      <th>3-1-1</th>\n",
       "      <td>0 days 00:00:39</td>\n",
       "      <td>67</td>\n",
       "    </tr>\n",
       "    <tr>\n",
       "      <th>ACS</th>\n",
       "      <td>NaT</td>\n",
       "      <td>136</td>\n",
       "    </tr>\n",
       "    <tr>\n",
       "      <th>COIB</th>\n",
       "      <td>NaT</td>\n",
       "      <td>4</td>\n",
       "    </tr>\n",
       "    <tr>\n",
       "      <th>DCA</th>\n",
       "      <td>1 days 16:17:32</td>\n",
       "      <td>60431</td>\n",
       "    </tr>\n",
       "    <tr>\n",
       "      <th>DCAS</th>\n",
       "      <td>NaT</td>\n",
       "      <td>281</td>\n",
       "    </tr>\n",
       "    <tr>\n",
       "      <th>DCP</th>\n",
       "      <td>NaT</td>\n",
       "      <td>9</td>\n",
       "    </tr>\n",
       "    <tr>\n",
       "      <th>DEP</th>\n",
       "      <td>0 days 21:17:00</td>\n",
       "      <td>421716</td>\n",
       "    </tr>\n",
       "    <tr>\n",
       "      <th>DFTA</th>\n",
       "      <td>8 days 22:28:24</td>\n",
       "      <td>5245</td>\n",
       "    </tr>\n",
       "    <tr>\n",
       "      <th>DHS</th>\n",
       "      <td>1 days 00:14:49</td>\n",
       "      <td>134062</td>\n",
       "    </tr>\n",
       "    <tr>\n",
       "      <th>DOB</th>\n",
       "      <td>9 days 04:16:32</td>\n",
       "      <td>589089</td>\n",
       "    </tr>\n",
       "    <tr>\n",
       "      <th>DOE</th>\n",
       "      <td>5 days 00:20:27</td>\n",
       "      <td>2406</td>\n",
       "    </tr>\n",
       "    <tr>\n",
       "      <th>DOF</th>\n",
       "      <td>2 days 04:57:07</td>\n",
       "      <td>242535</td>\n",
       "    </tr>\n",
       "    <tr>\n",
       "      <th>DOHMH</th>\n",
       "      <td>0 days 00:00:00</td>\n",
       "      <td>123966</td>\n",
       "    </tr>\n",
       "    <tr>\n",
       "      <th>DOITT</th>\n",
       "      <td>15 days 00:55:14.500000</td>\n",
       "      <td>696</td>\n",
       "    </tr>\n",
       "    <tr>\n",
       "      <th>DORIS</th>\n",
       "      <td>1 days 00:04:02.500000</td>\n",
       "      <td>58</td>\n",
       "    </tr>\n",
       "    <tr>\n",
       "      <th>DOT</th>\n",
       "      <td>0 days 19:53:23.500000</td>\n",
       "      <td>1095864</td>\n",
       "    </tr>\n",
       "    <tr>\n",
       "      <th>DPR</th>\n",
       "      <td>2 days 21:59:49.500000</td>\n",
       "      <td>269764</td>\n",
       "    </tr>\n",
       "    <tr>\n",
       "      <th>DSNY</th>\n",
       "      <td>1 days 16:21:00</td>\n",
       "      <td>980011</td>\n",
       "    </tr>\n",
       "    <tr>\n",
       "      <th>DVS</th>\n",
       "      <td>NaT</td>\n",
       "      <td>120</td>\n",
       "    </tr>\n",
       "    <tr>\n",
       "      <th>EDC</th>\n",
       "      <td>0 days 00:00:03</td>\n",
       "      <td>21929</td>\n",
       "    </tr>\n",
       "    <tr>\n",
       "      <th>FDNY</th>\n",
       "      <td>NaT</td>\n",
       "      <td>13</td>\n",
       "    </tr>\n",
       "    <tr>\n",
       "      <th>HPD</th>\n",
       "      <td>5 days 16:57:46</td>\n",
       "      <td>3502371</td>\n",
       "    </tr>\n",
       "    <tr>\n",
       "      <th>HRA</th>\n",
       "      <td>0 days 00:00:38</td>\n",
       "      <td>69512</td>\n",
       "    </tr>\n",
       "    <tr>\n",
       "      <th>MAYORâS OFFICE OF SPECIAL ENFORCEMENT</th>\n",
       "      <td>0 days 06:11:54.500000</td>\n",
       "      <td>47392</td>\n",
       "    </tr>\n",
       "    <tr>\n",
       "      <th>NYCEM</th>\n",
       "      <td>12 days 22:18:37</td>\n",
       "      <td>4267</td>\n",
       "    </tr>\n",
       "    <tr>\n",
       "      <th>NYPD</th>\n",
       "      <td>0 days 00:55:54</td>\n",
       "      <td>2374479</td>\n",
       "    </tr>\n",
       "    <tr>\n",
       "      <th>TAX</th>\n",
       "      <td>NaT</td>\n",
       "      <td>87</td>\n",
       "    </tr>\n",
       "    <tr>\n",
       "      <th>TLC</th>\n",
       "      <td>1 days 11:51:23</td>\n",
       "      <td>53490</td>\n",
       "    </tr>\n",
       "  </tbody>\n",
       "</table>\n",
       "</div>"
      ],
      "text/plain": [
       "                                                    time_to_fix         \n",
       "                                                         median     size\n",
       "agency                                                                  \n",
       "3-1-1                                           0 days 00:00:39       67\n",
       "ACS                                                         NaT      136\n",
       "COIB                                                        NaT        4\n",
       "DCA                                             1 days 16:17:32    60431\n",
       "DCAS                                                        NaT      281\n",
       "DCP                                                         NaT        9\n",
       "DEP                                             0 days 21:17:00   421716\n",
       "DFTA                                            8 days 22:28:24     5245\n",
       "DHS                                             1 days 00:14:49   134062\n",
       "DOB                                             9 days 04:16:32   589089\n",
       "DOE                                             5 days 00:20:27     2406\n",
       "DOF                                             2 days 04:57:07   242535\n",
       "DOHMH                                           0 days 00:00:00   123966\n",
       "DOITT                                   15 days 00:55:14.500000      696\n",
       "DORIS                                    1 days 00:04:02.500000       58\n",
       "DOT                                      0 days 19:53:23.500000  1095864\n",
       "DPR                                      2 days 21:59:49.500000   269764\n",
       "DSNY                                            1 days 16:21:00   980011\n",
       "DVS                                                         NaT      120\n",
       "EDC                                             0 days 00:00:03    21929\n",
       "FDNY                                                        NaT       13\n",
       "HPD                                             5 days 16:57:46  3502371\n",
       "HRA                                             0 days 00:00:38    69512\n",
       "MAYORâS OFFICE OF SPECIAL ENFORCEMENT  0 days 06:11:54.500000    47392\n",
       "NYCEM                                          12 days 22:18:37     4267\n",
       "NYPD                                            0 days 00:55:54  2374479\n",
       "TAX                                                         NaT       87\n",
       "TLC                                             1 days 11:51:23    53490"
      ]
     },
     "execution_count": 31,
     "metadata": {},
     "output_type": "execute_result"
    }
   ],
   "source": [
    "df.groupby('agency').agg({\n",
    "    'time_to_fix': ['median', 'size']\n",
    "})"
   ]
  },
  {
   "cell_type": "code",
   "execution_count": null,
   "id": "a0ee267d",
   "metadata": {},
   "outputs": [],
   "source": []
  },
  {
   "cell_type": "markdown",
   "id": "d1cf1865",
   "metadata": {},
   "source": [
    "## Seems weird that NYPD time-to-close is so fast. Can we break that down by complaint type?\n",
    "\n",
    "Remember the order: \n",
    "\n",
    "1. Filter\n",
    "2. Group\n",
    "3. Grab a column\n",
    "4. Do something with it\n",
    "5. Sort"
   ]
  },
  {
   "cell_type": "code",
   "execution_count": 180,
   "id": "11c4f90f",
   "metadata": {},
   "outputs": [
    {
     "data": {
      "text/plain": [
       "Noise - Residential        706826\n",
       "Illegal Parking            473055\n",
       "Noise - Street/Sidewalk    361498\n",
       "Blocked Driveway           271172\n",
       "Noise - Vehicle            148490\n",
       "Name: complaint_type, dtype: int64"
      ]
     },
     "execution_count": 180,
     "metadata": {},
     "output_type": "execute_result"
    }
   ],
   "source": [
    "#Looked at the dataframe for the NYPD complaints\n",
    "\n",
    "NYPD = df[df.agency == \"NYPD\"]\n",
    "\n",
    "NYPD.complaint_type.value_counts().sort_values(ascending=False).head()\n"
   ]
  },
  {
   "cell_type": "markdown",
   "id": "c5b5caf5",
   "metadata": {},
   "source": [
    "## Back to median fix time for all agencies: do these values change based on the borough?\n",
    "\n",
    "First, use `groupby` to get the median time to fix per agency in each borough. You can use something like `pd.set_option(\"display.max_rows\", 200)` if you can't see all of the results by default!"
   ]
  },
  {
   "cell_type": "code",
   "execution_count": 193,
   "id": "4525d028",
   "metadata": {},
   "outputs": [
    {
     "data": {
      "text/plain": [
       "borough\n",
       "BRONX           1 days 20:19:28\n",
       "BROOKLYN        1 days 13:22:52\n",
       "MANHATTAN       1 days 00:00:00\n",
       "QUEENS          0 days 20:47:17\n",
       "STATEN ISLAND   1 days 03:39:00\n",
       "Unspecified     5 days 00:00:00\n",
       "Name: time_to_fix, dtype: timedelta64[ns]"
      ]
     },
     "execution_count": 193,
     "metadata": {},
     "output_type": "execute_result"
    }
   ],
   "source": [
    "df.groupby(by='borough').time_to_fix.median()"
   ]
  },
  {
   "cell_type": "markdown",
   "id": "04727585",
   "metadata": {},
   "source": [
    "### Or, use another technique!"
   ]
  },
  {
   "cell_type": "markdown",
   "id": "be7a8f72",
   "metadata": {},
   "source": [
    "We talked about pivot table for a hot second in class, but it's (potentially) a good fit for this situation:\n",
    "\n",
    "```python\n",
    "df.pivot_table(\n",
    "    columns='what will show up as your columns',\n",
    "    index='what will show up as your rows',\n",
    "    values='the column that will show up in each cell',\n",
    "    aggfunc='the calculation(s) you want dont'\n",
    ")\n",
    "```"
   ]
  },
  {
   "cell_type": "code",
   "execution_count": null,
   "id": "bcd98dc1",
   "metadata": {},
   "outputs": [],
   "source": []
  },
  {
   "cell_type": "markdown",
   "id": "01d10369",
   "metadata": {},
   "source": [
    "### Use the pivot table result to find the worst-performing agency in the Bronx, then compare with Staten Island\n",
    "\n",
    "Since it's a dataframe, you can use the power of `.sort_values` (twice!). Do any of the agencies have a large difference between the two?"
   ]
  },
  {
   "cell_type": "code",
   "execution_count": 194,
   "id": "e09a49d8",
   "metadata": {},
   "outputs": [
    {
     "data": {
      "text/html": [
       "<div>\n",
       "<style scoped>\n",
       "    .dataframe tbody tr th:only-of-type {\n",
       "        vertical-align: middle;\n",
       "    }\n",
       "\n",
       "    .dataframe tbody tr th {\n",
       "        vertical-align: top;\n",
       "    }\n",
       "\n",
       "    .dataframe thead th {\n",
       "        text-align: right;\n",
       "    }\n",
       "</style>\n",
       "<table border=\"1\" class=\"dataframe\">\n",
       "  <thead>\n",
       "    <tr style=\"text-align: right;\">\n",
       "      <th>borough</th>\n",
       "      <th>BRONX</th>\n",
       "      <th>BROOKLYN</th>\n",
       "      <th>MANHATTAN</th>\n",
       "      <th>QUEENS</th>\n",
       "      <th>STATEN ISLAND</th>\n",
       "      <th>Unspecified</th>\n",
       "    </tr>\n",
       "    <tr>\n",
       "      <th>agency</th>\n",
       "      <th></th>\n",
       "      <th></th>\n",
       "      <th></th>\n",
       "      <th></th>\n",
       "      <th></th>\n",
       "      <th></th>\n",
       "    </tr>\n",
       "  </thead>\n",
       "  <tbody>\n",
       "    <tr>\n",
       "      <th>DOHMH</th>\n",
       "      <td>0 days 00:00:00</td>\n",
       "      <td>0 days 00:00:00</td>\n",
       "      <td>0 days 00:00:00</td>\n",
       "      <td>0 days 00:00:00</td>\n",
       "      <td>0 days 00:00:00</td>\n",
       "      <td>NaT</td>\n",
       "    </tr>\n",
       "    <tr>\n",
       "      <th>NYPD</th>\n",
       "      <td>0 days 01:15:17</td>\n",
       "      <td>0 days 00:51:49</td>\n",
       "      <td>0 days 00:38:02</td>\n",
       "      <td>0 days 01:11:41</td>\n",
       "      <td>0 days 00:44:02</td>\n",
       "      <td>0 days 04:33:00</td>\n",
       "    </tr>\n",
       "    <tr>\n",
       "      <th>MAYORâS OFFICE OF SPECIAL ENFORCEMENT</th>\n",
       "      <td>0 days 05:34:18.500000</td>\n",
       "      <td>0 days 06:40:13.500000</td>\n",
       "      <td>0 days 05:23:25</td>\n",
       "      <td>0 days 13:23:38</td>\n",
       "      <td>1 days 09:32:46.500000</td>\n",
       "      <td>0 days 15:28:30</td>\n",
       "    </tr>\n",
       "    <tr>\n",
       "      <th>DOT</th>\n",
       "      <td>0 days 05:55:18.500000</td>\n",
       "      <td>0 days 19:03:43</td>\n",
       "      <td>1 days 00:22:37</td>\n",
       "      <td>0 days 19:55:57</td>\n",
       "      <td>1 days 02:47:04</td>\n",
       "      <td>1 days 15:30:33</td>\n",
       "    </tr>\n",
       "    <tr>\n",
       "      <th>DEP</th>\n",
       "      <td>0 days 17:54:00</td>\n",
       "      <td>0 days 17:00:00</td>\n",
       "      <td>1 days 09:49:00</td>\n",
       "      <td>0 days 18:15:00</td>\n",
       "      <td>0 days 17:37:00</td>\n",
       "      <td>0 days 00:05:00</td>\n",
       "    </tr>\n",
       "    <tr>\n",
       "      <th>DSNY</th>\n",
       "      <td>1 days 02:59:00</td>\n",
       "      <td>1 days 19:27:00</td>\n",
       "      <td>1 days 18:08:00</td>\n",
       "      <td>1 days 11:20:00</td>\n",
       "      <td>1 days 23:16:00</td>\n",
       "      <td>1 days 21:15:00</td>\n",
       "    </tr>\n",
       "    <tr>\n",
       "      <th>DCA</th>\n",
       "      <td>1 days 06:34:40</td>\n",
       "      <td>1 days 14:19:33</td>\n",
       "      <td>1 days 15:20:04</td>\n",
       "      <td>1 days 17:21:59</td>\n",
       "      <td>1 days 15:08:57</td>\n",
       "      <td>1 days 18:02:44</td>\n",
       "    </tr>\n",
       "    <tr>\n",
       "      <th>DOF</th>\n",
       "      <td>2 days 06:22:35</td>\n",
       "      <td>2 days 02:06:29</td>\n",
       "      <td>2 days 02:45:30</td>\n",
       "      <td>2 days 02:10:58</td>\n",
       "      <td>2 days 02:56:04</td>\n",
       "      <td>2 days 22:15:23.500000</td>\n",
       "    </tr>\n",
       "    <tr>\n",
       "      <th>DHS</th>\n",
       "      <td>3 days 02:49:00</td>\n",
       "      <td>1 days 09:54:05</td>\n",
       "      <td>0 days 02:11:33</td>\n",
       "      <td>1 days 03:51:57</td>\n",
       "      <td>3 days 04:10:10</td>\n",
       "      <td>0 days 03:06:14</td>\n",
       "    </tr>\n",
       "    <tr>\n",
       "      <th>DPR</th>\n",
       "      <td>3 days 04:52:42</td>\n",
       "      <td>3 days 03:52:18</td>\n",
       "      <td>3 days 00:36:24.500000</td>\n",
       "      <td>2 days 16:29:15</td>\n",
       "      <td>2 days 00:16:26</td>\n",
       "      <td>6 days 00:50:46</td>\n",
       "    </tr>\n",
       "    <tr>\n",
       "      <th>HPD</th>\n",
       "      <td>5 days 00:00:00</td>\n",
       "      <td>5 days 00:00:00</td>\n",
       "      <td>5 days 17:53:52</td>\n",
       "      <td>6 days 22:27:25</td>\n",
       "      <td>7 days 00:00:00</td>\n",
       "      <td>6 days 00:00:00</td>\n",
       "    </tr>\n",
       "    <tr>\n",
       "      <th>EDC</th>\n",
       "      <td>5 days 11:01:19</td>\n",
       "      <td>15 days 04:50:56.500000</td>\n",
       "      <td>0 days 00:00:04</td>\n",
       "      <td>0 days 00:00:02</td>\n",
       "      <td>10 days 22:47:34</td>\n",
       "      <td>315 days 12:49:17</td>\n",
       "    </tr>\n",
       "    <tr>\n",
       "      <th>DOE</th>\n",
       "      <td>7 days 01:21:52.500000</td>\n",
       "      <td>1 days 23:14:49</td>\n",
       "      <td>6 days 16:31:23</td>\n",
       "      <td>2 days 21:30:50</td>\n",
       "      <td>8 days 06:22:49</td>\n",
       "      <td>13 days 02:21:02</td>\n",
       "    </tr>\n",
       "    <tr>\n",
       "      <th>DFTA</th>\n",
       "      <td>10 days 22:33:43</td>\n",
       "      <td>5 days 14:38:31</td>\n",
       "      <td>8 days 06:12:54</td>\n",
       "      <td>9 days 01:46:46</td>\n",
       "      <td>8 days 23:57:35</td>\n",
       "      <td>13 days 00:22:26</td>\n",
       "    </tr>\n",
       "    <tr>\n",
       "      <th>DOITT</th>\n",
       "      <td>13 days 07:42:29</td>\n",
       "      <td>13 days 02:16:44</td>\n",
       "      <td>15 days 19:37:38.500000</td>\n",
       "      <td>12 days 22:41:25</td>\n",
       "      <td>12 days 22:00:06</td>\n",
       "      <td>16 days 02:29:10.500000</td>\n",
       "    </tr>\n",
       "    <tr>\n",
       "      <th>DOB</th>\n",
       "      <td>16 days 12:43:51</td>\n",
       "      <td>6 days 13:33:27</td>\n",
       "      <td>6 days 10:12:06</td>\n",
       "      <td>13 days 12:34:43</td>\n",
       "      <td>9 days 09:42:25</td>\n",
       "      <td>0 days 00:00:00</td>\n",
       "    </tr>\n",
       "    <tr>\n",
       "      <th>TLC</th>\n",
       "      <td>18 days 18:46:18.500000</td>\n",
       "      <td>0 days 19:07:18</td>\n",
       "      <td>0 days 17:41:41.500000</td>\n",
       "      <td>2 days 16:14:56.500000</td>\n",
       "      <td>15 days 14:30:20</td>\n",
       "      <td>25 days 16:17:22.500000</td>\n",
       "    </tr>\n",
       "    <tr>\n",
       "      <th>3-1-1</th>\n",
       "      <td>NaT</td>\n",
       "      <td>0 days 00:00:52</td>\n",
       "      <td>0 days 00:00:36</td>\n",
       "      <td>0 days 00:00:42</td>\n",
       "      <td>0 days 00:00:51</td>\n",
       "      <td>0 days 00:00:17</td>\n",
       "    </tr>\n",
       "    <tr>\n",
       "      <th>DORIS</th>\n",
       "      <td>NaT</td>\n",
       "      <td>NaT</td>\n",
       "      <td>NaT</td>\n",
       "      <td>NaT</td>\n",
       "      <td>NaT</td>\n",
       "      <td>1 days 00:04:02.500000</td>\n",
       "    </tr>\n",
       "    <tr>\n",
       "      <th>HRA</th>\n",
       "      <td>NaT</td>\n",
       "      <td>NaT</td>\n",
       "      <td>NaT</td>\n",
       "      <td>NaT</td>\n",
       "      <td>NaT</td>\n",
       "      <td>0 days 00:00:38</td>\n",
       "    </tr>\n",
       "    <tr>\n",
       "      <th>NYCEM</th>\n",
       "      <td>NaT</td>\n",
       "      <td>NaT</td>\n",
       "      <td>NaT</td>\n",
       "      <td>NaT</td>\n",
       "      <td>NaT</td>\n",
       "      <td>12 days 22:18:37</td>\n",
       "    </tr>\n",
       "  </tbody>\n",
       "</table>\n",
       "</div>"
      ],
      "text/plain": [
       "borough                                                   BRONX  \\\n",
       "agency                                                            \n",
       "DOHMH                                           0 days 00:00:00   \n",
       "NYPD                                            0 days 01:15:17   \n",
       "MAYORâS OFFICE OF SPECIAL ENFORCEMENT  0 days 05:34:18.500000   \n",
       "DOT                                      0 days 05:55:18.500000   \n",
       "DEP                                             0 days 17:54:00   \n",
       "DSNY                                            1 days 02:59:00   \n",
       "DCA                                             1 days 06:34:40   \n",
       "DOF                                             2 days 06:22:35   \n",
       "DHS                                             3 days 02:49:00   \n",
       "DPR                                             3 days 04:52:42   \n",
       "HPD                                             5 days 00:00:00   \n",
       "EDC                                             5 days 11:01:19   \n",
       "DOE                                      7 days 01:21:52.500000   \n",
       "DFTA                                           10 days 22:33:43   \n",
       "DOITT                                          13 days 07:42:29   \n",
       "DOB                                            16 days 12:43:51   \n",
       "TLC                                     18 days 18:46:18.500000   \n",
       "3-1-1                                                       NaT   \n",
       "DORIS                                                       NaT   \n",
       "HRA                                                         NaT   \n",
       "NYCEM                                                       NaT   \n",
       "\n",
       "borough                                                BROOKLYN  \\\n",
       "agency                                                            \n",
       "DOHMH                                           0 days 00:00:00   \n",
       "NYPD                                            0 days 00:51:49   \n",
       "MAYORâS OFFICE OF SPECIAL ENFORCEMENT  0 days 06:40:13.500000   \n",
       "DOT                                             0 days 19:03:43   \n",
       "DEP                                             0 days 17:00:00   \n",
       "DSNY                                            1 days 19:27:00   \n",
       "DCA                                             1 days 14:19:33   \n",
       "DOF                                             2 days 02:06:29   \n",
       "DHS                                             1 days 09:54:05   \n",
       "DPR                                             3 days 03:52:18   \n",
       "HPD                                             5 days 00:00:00   \n",
       "EDC                                     15 days 04:50:56.500000   \n",
       "DOE                                             1 days 23:14:49   \n",
       "DFTA                                            5 days 14:38:31   \n",
       "DOITT                                          13 days 02:16:44   \n",
       "DOB                                             6 days 13:33:27   \n",
       "TLC                                             0 days 19:07:18   \n",
       "3-1-1                                           0 days 00:00:52   \n",
       "DORIS                                                       NaT   \n",
       "HRA                                                         NaT   \n",
       "NYCEM                                                       NaT   \n",
       "\n",
       "borough                                               MANHATTAN  \\\n",
       "agency                                                            \n",
       "DOHMH                                           0 days 00:00:00   \n",
       "NYPD                                            0 days 00:38:02   \n",
       "MAYORâS OFFICE OF SPECIAL ENFORCEMENT         0 days 05:23:25   \n",
       "DOT                                             1 days 00:22:37   \n",
       "DEP                                             1 days 09:49:00   \n",
       "DSNY                                            1 days 18:08:00   \n",
       "DCA                                             1 days 15:20:04   \n",
       "DOF                                             2 days 02:45:30   \n",
       "DHS                                             0 days 02:11:33   \n",
       "DPR                                      3 days 00:36:24.500000   \n",
       "HPD                                             5 days 17:53:52   \n",
       "EDC                                             0 days 00:00:04   \n",
       "DOE                                             6 days 16:31:23   \n",
       "DFTA                                            8 days 06:12:54   \n",
       "DOITT                                   15 days 19:37:38.500000   \n",
       "DOB                                             6 days 10:12:06   \n",
       "TLC                                      0 days 17:41:41.500000   \n",
       "3-1-1                                           0 days 00:00:36   \n",
       "DORIS                                                       NaT   \n",
       "HRA                                                         NaT   \n",
       "NYCEM                                                       NaT   \n",
       "\n",
       "borough                                                 QUEENS  \\\n",
       "agency                                                           \n",
       "DOHMH                                          0 days 00:00:00   \n",
       "NYPD                                           0 days 01:11:41   \n",
       "MAYORâS OFFICE OF SPECIAL ENFORCEMENT        0 days 13:23:38   \n",
       "DOT                                            0 days 19:55:57   \n",
       "DEP                                            0 days 18:15:00   \n",
       "DSNY                                           1 days 11:20:00   \n",
       "DCA                                            1 days 17:21:59   \n",
       "DOF                                            2 days 02:10:58   \n",
       "DHS                                            1 days 03:51:57   \n",
       "DPR                                            2 days 16:29:15   \n",
       "HPD                                            6 days 22:27:25   \n",
       "EDC                                            0 days 00:00:02   \n",
       "DOE                                            2 days 21:30:50   \n",
       "DFTA                                           9 days 01:46:46   \n",
       "DOITT                                         12 days 22:41:25   \n",
       "DOB                                           13 days 12:34:43   \n",
       "TLC                                     2 days 16:14:56.500000   \n",
       "3-1-1                                          0 days 00:00:42   \n",
       "DORIS                                                      NaT   \n",
       "HRA                                                        NaT   \n",
       "NYCEM                                                      NaT   \n",
       "\n",
       "borough                                          STATEN ISLAND  \\\n",
       "agency                                                           \n",
       "DOHMH                                          0 days 00:00:00   \n",
       "NYPD                                           0 days 00:44:02   \n",
       "MAYORâS OFFICE OF SPECIAL ENFORCEMENT 1 days 09:32:46.500000   \n",
       "DOT                                            1 days 02:47:04   \n",
       "DEP                                            0 days 17:37:00   \n",
       "DSNY                                           1 days 23:16:00   \n",
       "DCA                                            1 days 15:08:57   \n",
       "DOF                                            2 days 02:56:04   \n",
       "DHS                                            3 days 04:10:10   \n",
       "DPR                                            2 days 00:16:26   \n",
       "HPD                                            7 days 00:00:00   \n",
       "EDC                                           10 days 22:47:34   \n",
       "DOE                                            8 days 06:22:49   \n",
       "DFTA                                           8 days 23:57:35   \n",
       "DOITT                                         12 days 22:00:06   \n",
       "DOB                                            9 days 09:42:25   \n",
       "TLC                                           15 days 14:30:20   \n",
       "3-1-1                                          0 days 00:00:51   \n",
       "DORIS                                                      NaT   \n",
       "HRA                                                        NaT   \n",
       "NYCEM                                                      NaT   \n",
       "\n",
       "borough                                             Unspecified  \n",
       "agency                                                           \n",
       "DOHMH                                                       NaT  \n",
       "NYPD                                            0 days 04:33:00  \n",
       "MAYORâS OFFICE OF SPECIAL ENFORCEMENT         0 days 15:28:30  \n",
       "DOT                                             1 days 15:30:33  \n",
       "DEP                                             0 days 00:05:00  \n",
       "DSNY                                            1 days 21:15:00  \n",
       "DCA                                             1 days 18:02:44  \n",
       "DOF                                      2 days 22:15:23.500000  \n",
       "DHS                                             0 days 03:06:14  \n",
       "DPR                                             6 days 00:50:46  \n",
       "HPD                                             6 days 00:00:00  \n",
       "EDC                                           315 days 12:49:17  \n",
       "DOE                                            13 days 02:21:02  \n",
       "DFTA                                           13 days 00:22:26  \n",
       "DOITT                                   16 days 02:29:10.500000  \n",
       "DOB                                             0 days 00:00:00  \n",
       "TLC                                     25 days 16:17:22.500000  \n",
       "3-1-1                                           0 days 00:00:17  \n",
       "DORIS                                    1 days 00:04:02.500000  \n",
       "HRA                                             0 days 00:00:38  \n",
       "NYCEM                                          12 days 22:18:37  "
      ]
     },
     "execution_count": 194,
     "metadata": {},
     "output_type": "execute_result"
    }
   ],
   "source": [
    "df.pivot_table(\n",
    "    columns='borough',\n",
    "    index='agency',\n",
    "    values='time_to_fix',\n",
    "    aggfunc='median',\n",
    ").sort_values(by='BRONX')\n"
   ]
  },
  {
   "cell_type": "markdown",
   "id": "ce6c5d0b",
   "metadata": {},
   "source": [
    "## What were the top ten 311 types of complaints on Thanksgiving 2020? Are they different than the day before Thanksgiving?\n",
    "\n",
    "**Finding exact dates is awful, honestly.** While you can do something like this to ask for rows after a specific date:\n",
    "\n",
    "```python\n",
    "df[df.date_column >= '2020-01-01']\n",
    "```\n",
    "\n",
    "You, for some reason, can't ask for an **exact match** unless you're really looking for exactly at midnight. For example, this won't give you what you want:\n",
    "\n",
    "```python\n",
    "df[df.date_column == '2020-01-01']\n",
    "```\n",
    "\n",
    "Instead, the thing you need to do is this:\n",
    "\n",
    "```python\n",
    "df[(df.date_column >= '2020-01-01') & (df.date_column < '2020-01-02']\n",
    "```\n",
    "\n",
    "Everything that starts at midnight on the 1st but *is still less than midnight on the 2nd**."
   ]
  },
  {
   "cell_type": "code",
   "execution_count": 68,
   "id": "e6882c87",
   "metadata": {},
   "outputs": [
    {
     "data": {
      "text/plain": [
       "Noise - Residential                    766\n",
       "Illegal Parking                        324\n",
       "Noise - Street/Sidewalk                218\n",
       "Blocked Driveway                       190\n",
       "Noise - Vehicle                        150\n",
       "HEAT/HOT WATER                         135\n",
       "NonCompliance with Phased Reopening     52\n",
       "Homeless Person Assistance              46\n",
       "Noise - Commercial                      38\n",
       "Rodent                                  22\n",
       "Name: complaint_type, dtype: int64"
      ]
     },
     "execution_count": 68,
     "metadata": {},
     "output_type": "execute_result"
    }
   ],
   "source": [
    "#I look at two days between Thanksgiving of 2020 and looked at the complaints types recorded\n",
    "#on those days. And looked at the top 10.\n",
    "\n",
    "thanks_giving = df[(df.created_date >= '2020-11-26') & (df.created_date < '2020-11-27')].complaint_type.value_counts()\n",
    "\n",
    "\n",
    "thanks_giving.head(10)"
   ]
  },
  {
   "cell_type": "markdown",
   "id": "db27701d",
   "metadata": {},
   "source": [
    "## What is the most common 311 complaint types on Christmas day?\n",
    "\n",
    "And I mean *all Christmas days*, not just in certain years)\n",
    "\n",
    "* Tip: `dt.` and `&` are going to be your friend here\n",
    "* Tip: If you want to get fancy you can look up `strftime`\n",
    "* Tip: One of those is much much faster than the other"
   ]
  },
  {
   "cell_type": "code",
   "execution_count": 72,
   "id": "4b935a41",
   "metadata": {},
   "outputs": [
    {
     "data": {
      "text/plain": [
       "Noise - Residential                    829\n",
       "Illegal Parking                        322\n",
       "Blocked Driveway                       256\n",
       "HEAT/HOT WATER                         244\n",
       "Damaged Tree                           142\n",
       "Noise - Vehicle                         85\n",
       "Noise - Street/Sidewalk                 85\n",
       "Noise - Commercial                      34\n",
       "NonCompliance with Phased Reopening     29\n",
       "General Construction/Plumbing           28\n",
       "Name: complaint_type, dtype: int64"
      ]
     },
     "execution_count": 72,
     "metadata": {},
     "output_type": "execute_result"
    }
   ],
   "source": [
    "#Similarly, this looked at the complaint types recorded on X'mas day.\n",
    "\n",
    "\n",
    "X_mas = df[(df.created_date >= '2020-12-25') & (df.created_date < '2020-12-26')].complaint_type.value_counts()\n",
    "\n",
    "X_mas.head(10)"
   ]
  },
  {
   "cell_type": "code",
   "execution_count": null,
   "id": "3d6c81e3",
   "metadata": {},
   "outputs": [],
   "source": []
  },
  {
   "cell_type": "markdown",
   "id": "183ca029",
   "metadata": {},
   "source": [
    "# Stories\n",
    "\n",
    "Let's approach this from the idea of **having stories and wanting to investigate them.** Fun facts:\n",
    "\n",
    "* Not all of these are reasonably answered with what our data is\n",
    "* We only have certain skills about how to analyzing the data\n",
    "* There are about six hundred approaches for each question\n",
    "\n",
    "But: **for most of these prompts there are at least a few ways you can get something interesting out of the dataset.**"
   ]
  },
  {
   "cell_type": "markdown",
   "id": "0e9f8549",
   "metadata": {},
   "source": [
    "## Fireworks and BLM\n",
    "\n",
    "You're writing a story about the anecdotal idea that the summer of the BLM protests there were an incredible number of fireworks being set off. Does the data support this?\n",
    "\n",
    "What assumptions is your analysis making? What could make your analysis fall apart?"
   ]
  },
  {
   "cell_type": "code",
   "execution_count": 85,
   "id": "45046a03",
   "metadata": {},
   "outputs": [
    {
     "data": {
      "text/plain": [
       "Illegal Fireworks    41444\n",
       "Name: complaint_type, dtype: int64"
      ]
     },
     "execution_count": 85,
     "metadata": {},
     "output_type": "execute_result"
    }
   ],
   "source": [
    "#Here, I am looking at complaints about fireworks and they were mostly reported to the NYPD. \n",
    "#BLM protests according to wikipedia peaked around June 2020, so the assumption would be that whatever surge in fireworks\n",
    "#would be in that summer. I am assuming that all illegal fireworks reported between June 1, 2020 and June 6, 2020 \n",
    "#were in connection with the BLM protests. The analysis could fall apart if the locations of the \n",
    "#illegal fireworks were not places were BLM protests were held.\n",
    "\n",
    "\n",
    "    \n",
    "\n",
    "Fireworks = df[df.complaint_type == \"Illegal Fireworks\"]\n",
    "\n",
    "    \n",
    "    \n",
    "    \n",
    "    \n",
    "BLM = Fireworks[(Fireworks.created_date >= '2020-06-01') \\\n",
    "                & (Fireworks.created_date < '2020-08-01')].complaint_type.value_counts()\n",
    "\n",
    "BLM\n",
    "\n",
    "\n",
    "\n"
   ]
  },
  {
   "cell_type": "code",
   "execution_count": 87,
   "id": "58ec3f40",
   "metadata": {},
   "outputs": [
    {
     "data": {
      "text/plain": [
       "Illegal Fireworks    209\n",
       "Name: complaint_type, dtype: int64"
      ]
     },
     "execution_count": 87,
     "metadata": {},
     "output_type": "execute_result"
    }
   ],
   "source": [
    "#Same period 2019\n",
    "\n",
    "same_period = Fireworks[(Fireworks.created_date >= '2019-06-01') \\\n",
    "    & (Fireworks.created_date < '2019-08-01')] \\\n",
    "    .complaint_type.value_counts()\n",
    "\n",
    "same_period"
   ]
  },
  {
   "cell_type": "markdown",
   "id": "e48a6243",
   "metadata": {},
   "source": [
    "## Sanitation and work slowdowns\n",
    "\n",
    "The Dept of Sanitation recently had a work slowdown to protest the vaccine mandate. You'd like to write about past work slowdowns that have caused garbage to pile up in the street, streets to not be swept, etc, and compare them to the current slowdown. You've also heard rumors that it was worse in Staten Island and a few Brooklyn neighborhoods - Marine Park and Canarsie - than everywhere else.\n",
    "\n",
    "Use the data to find timeframes worth researching, and note how this slowdown might compare. Also, is there anything behind the geographic issue?\n",
    "\n",
    "What assumptions is your analysis making? What could make your analysis fall apart?"
   ]
  },
  {
   "cell_type": "code",
   "execution_count": null,
   "id": "46a342c4",
   "metadata": {},
   "outputs": [],
   "source": []
  },
  {
   "cell_type": "markdown",
   "id": "dd929f11",
   "metadata": {},
   "source": [
    "## Gentrification and whining to the government\n",
    "\n",
    "It's said that when a neighborhood gentrifies, the people who move in are quick to report things to authorities that would previously have been ignored or dealt with on a personal basis. Use the data to investigate the concept (two techniques for finding gentrifying area are using census data and using Google).\n",
    "\n",
    "What assumptions is your analysis making? What could make your analysis fall apart? Be sure to cite your sources. "
   ]
  },
  {
   "cell_type": "code",
   "execution_count": null,
   "id": "1df31a4a",
   "metadata": {},
   "outputs": [],
   "source": []
  },
  {
   "cell_type": "markdown",
   "id": "2cba95a7",
   "metadata": {},
   "source": [
    "## 311 quirks\n",
    "\n",
    "Our editor tried to submit a 311 request using the app the other day, but it didn't go through. As we all know, news is what happens to your editor! Has the 311 mobile app ever actually stopped working?\n",
    "\n",
    "If that's a dead end, maybe you can talk about the differences between the different submission avenues: could a mobile outage disproportionately impact a certain kind of complaint or agency? How about if the phone lines stopped working?\n",
    "\n",
    "What assumptions is your analysis making? What could make your analysis fall apart?"
   ]
  },
  {
   "cell_type": "code",
   "execution_count": null,
   "id": "a9951f8c",
   "metadata": {},
   "outputs": [],
   "source": []
  },
  {
   "cell_type": "markdown",
   "id": "62ff7b9a",
   "metadata": {},
   "source": [
    "## NYCHA and public funds\n",
    "\n",
    "NYC's public housing infrastructure is failing, and one reason is lack of federal funds. While the recent spending bills passed through Congress might be able to help, the feeling is that things have really fallen apart in the past however-many years – as time goes on it gets more and more difficult for the agency in control of things to address issues in a timely manner.\n",
    "\n",
    "If you were tasked with finding information to help a reporter writing on this topic, you will **not** reasonably be able to find much in the dataset to support or refute this. Why not? \n",
    "\n",
    "If you wanted to squeeze something out of this dataset anyway, what could an option be? (You might need to bring in another dataset.)"
   ]
  },
  {
   "cell_type": "code",
   "execution_count": null,
   "id": "0ebc3436",
   "metadata": {},
   "outputs": [],
   "source": []
  },
  {
   "cell_type": "code",
   "execution_count": null,
   "id": "f4697827",
   "metadata": {},
   "outputs": [],
   "source": []
  },
  {
   "cell_type": "code",
   "execution_count": null,
   "id": "2692f1f6",
   "metadata": {},
   "outputs": [],
   "source": []
  },
  {
   "cell_type": "code",
   "execution_count": null,
   "id": "22e8d316",
   "metadata": {},
   "outputs": [],
   "source": []
  }
 ],
 "metadata": {
  "kernelspec": {
   "display_name": "Python 3 (ipykernel)",
   "language": "python",
   "name": "python3"
  },
  "language_info": {
   "codemirror_mode": {
    "name": "ipython",
    "version": 3
   },
   "file_extension": ".py",
   "mimetype": "text/x-python",
   "name": "python",
   "nbconvert_exporter": "python",
   "pygments_lexer": "ipython3",
   "version": "3.9.7"
  }
 },
 "nbformat": 4,
 "nbformat_minor": 5
}
